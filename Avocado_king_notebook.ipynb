{
 "cells": [
  {
   "cell_type": "markdown",
   "metadata": {},
   "source": [
    "# Avocado prediction\n",
    "\n",
    "Problem description: \n",
    "\n",
    "Our client, Avocado King, is an avocado supplier that sells conventional and organic avocados all over the U.S. The client has given you historical data on the avocado prices/sales in the US market and they want to know how they could use this data and predictive models to gain a competitive edge. They are particularly interested in predicting the prices of avocados and the number of avocados sold."
   ]
  },
  {
   "cell_type": "markdown",
   "metadata": {},
   "source": [
    "Importing libraries"
   ]
  },
  {
   "cell_type": "code",
   "execution_count": 305,
   "metadata": {},
   "outputs": [],
   "source": [
    "import pandas as pd\n",
    "import numpy as np\n",
    "import matplotlib.pyplot as plt\n",
    "import seaborn as sns\n",
    "from sklearn.pipeline import Pipeline\n",
    "from sklearn import preprocessing\n",
    "from sklearn.preprocessing import MinMaxScaler\n",
    "from sklearn.model_selection import train_test_split\n",
    "from sklearn.metrics import r2_score\n",
    "from sklearn.ensemble import ExtraTreesRegressor\n",
    "#from sklearn.ensemble import RandomForestRegressor\n",
    "from sklearn.ensemble import GradientBoostingRegressor\n",
    "from sklearn.model_selection import GridSearchCV\n",
    "from sklearn.model_selection import KFold\n",
    "from sklearn.linear_model import Lasso\n",
    "from sklearn.linear_model import LassoCV\n",
    "from sklearn.model_selection import RandomizedSearchCV"
   ]
  },
  {
   "cell_type": "markdown",
   "metadata": {},
   "source": [
    "Reading price/sales data and google search data"
   ]
  },
  {
   "cell_type": "code",
   "execution_count": 306,
   "metadata": {},
   "outputs": [],
   "source": [
    "df1 = pd.read_csv('price-and-sales-data.csv')\n",
    "df2 = pd.read_csv('google-data.csv')"
   ]
  },
  {
   "cell_type": "code",
   "execution_count": 308,
   "metadata": {},
   "outputs": [
    {
     "data": {
      "text/html": [
       "<div>\n",
       "<style scoped>\n",
       "    .dataframe tbody tr th:only-of-type {\n",
       "        vertical-align: middle;\n",
       "    }\n",
       "\n",
       "    .dataframe tbody tr th {\n",
       "        vertical-align: top;\n",
       "    }\n",
       "\n",
       "    .dataframe thead th {\n",
       "        text-align: right;\n",
       "    }\n",
       "</style>\n",
       "<table border=\"1\" class=\"dataframe\">\n",
       "  <thead>\n",
       "    <tr style=\"text-align: right;\">\n",
       "      <th></th>\n",
       "      <th>Date</th>\n",
       "      <th>AveragePrice</th>\n",
       "      <th>TotalVolume</th>\n",
       "      <th>4046</th>\n",
       "      <th>4225</th>\n",
       "      <th>4770</th>\n",
       "      <th>TotalBags</th>\n",
       "      <th>SmallBags</th>\n",
       "      <th>LargeBags</th>\n",
       "      <th>XLargeBags</th>\n",
       "      <th>type</th>\n",
       "      <th>year</th>\n",
       "      <th>region</th>\n",
       "    </tr>\n",
       "  </thead>\n",
       "  <tbody>\n",
       "    <tr>\n",
       "      <th>0</th>\n",
       "      <td>2015-01-04</td>\n",
       "      <td>1.22</td>\n",
       "      <td>40873.28</td>\n",
       "      <td>2819.50</td>\n",
       "      <td>28287.42</td>\n",
       "      <td>49.90</td>\n",
       "      <td>9716.46</td>\n",
       "      <td>9186.93</td>\n",
       "      <td>529.53</td>\n",
       "      <td>0.00</td>\n",
       "      <td>conventional</td>\n",
       "      <td>2015</td>\n",
       "      <td>Albany</td>\n",
       "    </tr>\n",
       "    <tr>\n",
       "      <th>1</th>\n",
       "      <td>2015-01-04</td>\n",
       "      <td>1.00</td>\n",
       "      <td>435021.49</td>\n",
       "      <td>364302.39</td>\n",
       "      <td>23821.16</td>\n",
       "      <td>82.15</td>\n",
       "      <td>46815.79</td>\n",
       "      <td>16707.15</td>\n",
       "      <td>30108.64</td>\n",
       "      <td>0.00</td>\n",
       "      <td>conventional</td>\n",
       "      <td>2015</td>\n",
       "      <td>Atlanta</td>\n",
       "    </tr>\n",
       "    <tr>\n",
       "      <th>2</th>\n",
       "      <td>2015-01-04</td>\n",
       "      <td>NaN</td>\n",
       "      <td>788025.06</td>\n",
       "      <td>53987.31</td>\n",
       "      <td>552906.04</td>\n",
       "      <td>39995.03</td>\n",
       "      <td>141136.68</td>\n",
       "      <td>137146.07</td>\n",
       "      <td>3990.61</td>\n",
       "      <td>0.00</td>\n",
       "      <td>conventional</td>\n",
       "      <td>2015</td>\n",
       "      <td>BaltimoreWashington</td>\n",
       "    </tr>\n",
       "    <tr>\n",
       "      <th>3</th>\n",
       "      <td>2015-01-04</td>\n",
       "      <td>1.01</td>\n",
       "      <td>80034.32</td>\n",
       "      <td>44562.12</td>\n",
       "      <td>24964.23</td>\n",
       "      <td>2752.35</td>\n",
       "      <td>7755.62</td>\n",
       "      <td>6064.30</td>\n",
       "      <td>1691.32</td>\n",
       "      <td>0.00</td>\n",
       "      <td>conventional</td>\n",
       "      <td>2015</td>\n",
       "      <td>Boise</td>\n",
       "    </tr>\n",
       "    <tr>\n",
       "      <th>4</th>\n",
       "      <td>2015-01-04</td>\n",
       "      <td>1.02</td>\n",
       "      <td>491738.00</td>\n",
       "      <td>7193.87</td>\n",
       "      <td>396752.18</td>\n",
       "      <td>128.82</td>\n",
       "      <td>87663.13</td>\n",
       "      <td>87406.84</td>\n",
       "      <td>256.29</td>\n",
       "      <td>0.00</td>\n",
       "      <td>conventional</td>\n",
       "      <td>2015</td>\n",
       "      <td>Boston</td>\n",
       "    </tr>\n",
       "    <tr>\n",
       "      <th>5</th>\n",
       "      <td>2015-01-04</td>\n",
       "      <td>1.40</td>\n",
       "      <td>116253.44</td>\n",
       "      <td>3267.97</td>\n",
       "      <td>55693.04</td>\n",
       "      <td>109.55</td>\n",
       "      <td>57182.88</td>\n",
       "      <td>57182.88</td>\n",
       "      <td>0.00</td>\n",
       "      <td>0.00</td>\n",
       "      <td>conventional</td>\n",
       "      <td>2015</td>\n",
       "      <td>BuffaloRochester</td>\n",
       "    </tr>\n",
       "    <tr>\n",
       "      <th>6</th>\n",
       "      <td>2015-01-04</td>\n",
       "      <td>0.93</td>\n",
       "      <td>5777334.90</td>\n",
       "      <td>2843648.26</td>\n",
       "      <td>2267755.26</td>\n",
       "      <td>137479.64</td>\n",
       "      <td>528451.74</td>\n",
       "      <td>477193.38</td>\n",
       "      <td>47882.56</td>\n",
       "      <td>3375.80</td>\n",
       "      <td>conventional</td>\n",
       "      <td>2015</td>\n",
       "      <td>California</td>\n",
       "    </tr>\n",
       "    <tr>\n",
       "      <th>7</th>\n",
       "      <td>2015-01-04</td>\n",
       "      <td>1.19</td>\n",
       "      <td>166006.29</td>\n",
       "      <td>29419.03</td>\n",
       "      <td>47220.75</td>\n",
       "      <td>38568.95</td>\n",
       "      <td>50797.56</td>\n",
       "      <td>NaN</td>\n",
       "      <td>NaN</td>\n",
       "      <td>0.00</td>\n",
       "      <td>conventional</td>\n",
       "      <td>2015</td>\n",
       "      <td>Charlotte</td>\n",
       "    </tr>\n",
       "    <tr>\n",
       "      <th>8</th>\n",
       "      <td>2015-01-04</td>\n",
       "      <td>1.11</td>\n",
       "      <td>783068.03</td>\n",
       "      <td>30270.26</td>\n",
       "      <td>550752.19</td>\n",
       "      <td>124506.10</td>\n",
       "      <td>77539.48</td>\n",
       "      <td>72888.46</td>\n",
       "      <td>4651.02</td>\n",
       "      <td>0.00</td>\n",
       "      <td>conventional</td>\n",
       "      <td>2015</td>\n",
       "      <td>Chicago</td>\n",
       "    </tr>\n",
       "    <tr>\n",
       "      <th>9</th>\n",
       "      <td>2015-01-04</td>\n",
       "      <td>0.88</td>\n",
       "      <td>228569.58</td>\n",
       "      <td>3274.30</td>\n",
       "      <td>168764.78</td>\n",
       "      <td>1447.06</td>\n",
       "      <td>NaN</td>\n",
       "      <td>17525.31</td>\n",
       "      <td>37445.46</td>\n",
       "      <td>112.67</td>\n",
       "      <td>conventional</td>\n",
       "      <td>2015</td>\n",
       "      <td>CincinnatiDayton</td>\n",
       "    </tr>\n",
       "    <tr>\n",
       "      <th>10</th>\n",
       "      <td>2015-01-04</td>\n",
       "      <td>0.89</td>\n",
       "      <td>158638.04</td>\n",
       "      <td>80298.77</td>\n",
       "      <td>51860.47</td>\n",
       "      <td>7609.24</td>\n",
       "      <td>18869.56</td>\n",
       "      <td>16518.15</td>\n",
       "      <td>2132.21</td>\n",
       "      <td>219.20</td>\n",
       "      <td>conventional</td>\n",
       "      <td>2015</td>\n",
       "      <td>Columbus</td>\n",
       "    </tr>\n",
       "    <tr>\n",
       "      <th>11</th>\n",
       "      <td>2015-01-04</td>\n",
       "      <td>NaN</td>\n",
       "      <td>1086363.97</td>\n",
       "      <td>612795.80</td>\n",
       "      <td>374420.68</td>\n",
       "      <td>9817.28</td>\n",
       "      <td>89330.21</td>\n",
       "      <td>54563.33</td>\n",
       "      <td>34760.08</td>\n",
       "      <td>6.80</td>\n",
       "      <td>conventional</td>\n",
       "      <td>2015</td>\n",
       "      <td>DallasFtWorth</td>\n",
       "    </tr>\n",
       "    <tr>\n",
       "      <th>12</th>\n",
       "      <td>2015-01-04</td>\n",
       "      <td>0.99</td>\n",
       "      <td>668086.00</td>\n",
       "      <td>117454.09</td>\n",
       "      <td>429518.41</td>\n",
       "      <td>5553.60</td>\n",
       "      <td>115559.90</td>\n",
       "      <td>67894.33</td>\n",
       "      <td>47661.52</td>\n",
       "      <td>4.05</td>\n",
       "      <td>conventional</td>\n",
       "      <td>2015</td>\n",
       "      <td>Denver</td>\n",
       "    </tr>\n",
       "    <tr>\n",
       "      <th>13</th>\n",
       "      <td>2015-01-04</td>\n",
       "      <td>1.01</td>\n",
       "      <td>369694.27</td>\n",
       "      <td>121634.27</td>\n",
       "      <td>117865.11</td>\n",
       "      <td>74062.76</td>\n",
       "      <td>56132.13</td>\n",
       "      <td>46679.86</td>\n",
       "      <td>1060.51</td>\n",
       "      <td>8391.76</td>\n",
       "      <td>conventional</td>\n",
       "      <td>2015</td>\n",
       "      <td>Detroit</td>\n",
       "    </tr>\n",
       "    <tr>\n",
       "      <th>14</th>\n",
       "      <td>2015-01-04</td>\n",
       "      <td>0.95</td>\n",
       "      <td>258979.63</td>\n",
       "      <td>1097.00</td>\n",
       "      <td>189348.60</td>\n",
       "      <td>22612.46</td>\n",
       "      <td>45921.57</td>\n",
       "      <td>43899.46</td>\n",
       "      <td>1097.68</td>\n",
       "      <td>924.43</td>\n",
       "      <td>conventional</td>\n",
       "      <td>2015</td>\n",
       "      <td>GrandRapids</td>\n",
       "    </tr>\n",
       "    <tr>\n",
       "      <th>15</th>\n",
       "      <td>2015-01-04</td>\n",
       "      <td>1.02</td>\n",
       "      <td>3382800.12</td>\n",
       "      <td>467259.47</td>\n",
       "      <td>2059657.71</td>\n",
       "      <td>318102.38</td>\n",
       "      <td>537780.56</td>\n",
       "      <td>412779.64</td>\n",
       "      <td>111072.91</td>\n",
       "      <td>13928.01</td>\n",
       "      <td>conventional</td>\n",
       "      <td>2015</td>\n",
       "      <td>GreatLakes</td>\n",
       "    </tr>\n",
       "    <tr>\n",
       "      <th>16</th>\n",
       "      <td>2015-01-04</td>\n",
       "      <td>NaN</td>\n",
       "      <td>203939.14</td>\n",
       "      <td>32679.84</td>\n",
       "      <td>121020.54</td>\n",
       "      <td>1286.19</td>\n",
       "      <td>48952.57</td>\n",
       "      <td>47583.64</td>\n",
       "      <td>1368.93</td>\n",
       "      <td>0.00</td>\n",
       "      <td>conventional</td>\n",
       "      <td>2015</td>\n",
       "      <td>HarrisburgScranton</td>\n",
       "    </tr>\n",
       "    <tr>\n",
       "      <th>17</th>\n",
       "      <td>2015-01-04</td>\n",
       "      <td>1.06</td>\n",
       "      <td>332208.14</td>\n",
       "      <td>6387.60</td>\n",
       "      <td>267593.62</td>\n",
       "      <td>NaN</td>\n",
       "      <td>58061.57</td>\n",
       "      <td>55401.31</td>\n",
       "      <td>2660.26</td>\n",
       "      <td>0.00</td>\n",
       "      <td>conventional</td>\n",
       "      <td>2015</td>\n",
       "      <td>HartfordSpringfield</td>\n",
       "    </tr>\n",
       "    <tr>\n",
       "      <th>18</th>\n",
       "      <td>2015-01-04</td>\n",
       "      <td>0.71</td>\n",
       "      <td>1062990.62</td>\n",
       "      <td>NaN</td>\n",
       "      <td>436347.57</td>\n",
       "      <td>4378.92</td>\n",
       "      <td>115837.55</td>\n",
       "      <td>90299.85</td>\n",
       "      <td>25537.70</td>\n",
       "      <td>0.00</td>\n",
       "      <td>conventional</td>\n",
       "      <td>2015</td>\n",
       "      <td>Houston</td>\n",
       "    </tr>\n",
       "    <tr>\n",
       "      <th>19</th>\n",
       "      <td>2015-01-04</td>\n",
       "      <td>1.02</td>\n",
       "      <td>160130.15</td>\n",
       "      <td>4007.41</td>\n",
       "      <td>118435.79</td>\n",
       "      <td>NaN</td>\n",
       "      <td>36485.45</td>\n",
       "      <td>20325.41</td>\n",
       "      <td>16160.04</td>\n",
       "      <td>NaN</td>\n",
       "      <td>conventional</td>\n",
       "      <td>2015</td>\n",
       "      <td>Indianapolis</td>\n",
       "    </tr>\n",
       "    <tr>\n",
       "      <th>20</th>\n",
       "      <td>2015-01-04</td>\n",
       "      <td>0.97</td>\n",
       "      <td>153506.84</td>\n",
       "      <td>105203.79</td>\n",
       "      <td>19147.78</td>\n",
       "      <td>468.70</td>\n",
       "      <td>28686.57</td>\n",
       "      <td>13653.15</td>\n",
       "      <td>15033.42</td>\n",
       "      <td>0.00</td>\n",
       "      <td>conventional</td>\n",
       "      <td>2015</td>\n",
       "      <td>Jacksonville</td>\n",
       "    </tr>\n",
       "    <tr>\n",
       "      <th>21</th>\n",
       "      <td>2015-01-04</td>\n",
       "      <td>0.80</td>\n",
       "      <td>317861.35</td>\n",
       "      <td>134003.07</td>\n",
       "      <td>120628.37</td>\n",
       "      <td>4591.23</td>\n",
       "      <td>58638.68</td>\n",
       "      <td>58126.59</td>\n",
       "      <td>512.09</td>\n",
       "      <td>0.00</td>\n",
       "      <td>conventional</td>\n",
       "      <td>2015</td>\n",
       "      <td>LasVegas</td>\n",
       "    </tr>\n",
       "    <tr>\n",
       "      <th>22</th>\n",
       "      <td>2015-01-04</td>\n",
       "      <td>0.85</td>\n",
       "      <td>2682159.95</td>\n",
       "      <td>1837999.65</td>\n",
       "      <td>NaN</td>\n",
       "      <td>64225.78</td>\n",
       "      <td>255504.05</td>\n",
       "      <td>NaN</td>\n",
       "      <td>36981.72</td>\n",
       "      <td>2950.53</td>\n",
       "      <td>conventional</td>\n",
       "      <td>2015</td>\n",
       "      <td>LosAngeles</td>\n",
       "    </tr>\n",
       "    <tr>\n",
       "      <th>23</th>\n",
       "      <td>2015-01-04</td>\n",
       "      <td>0.92</td>\n",
       "      <td>101162.98</td>\n",
       "      <td>1991.63</td>\n",
       "      <td>75090.16</td>\n",
       "      <td>283.88</td>\n",
       "      <td>23797.31</td>\n",
       "      <td>7769.36</td>\n",
       "      <td>NaN</td>\n",
       "      <td>0.00</td>\n",
       "      <td>conventional</td>\n",
       "      <td>2015</td>\n",
       "      <td>Louisville</td>\n",
       "    </tr>\n",
       "    <tr>\n",
       "      <th>24</th>\n",
       "      <td>2015-01-04</td>\n",
       "      <td>0.97</td>\n",
       "      <td>540234.22</td>\n",
       "      <td>398670.03</td>\n",
       "      <td>54844.33</td>\n",
       "      <td>39.07</td>\n",
       "      <td>86680.79</td>\n",
       "      <td>38505.18</td>\n",
       "      <td>48175.61</td>\n",
       "      <td>0.00</td>\n",
       "      <td>conventional</td>\n",
       "      <td>2015</td>\n",
       "      <td>MiamiFtLauderdale</td>\n",
       "    </tr>\n",
       "    <tr>\n",
       "      <th>25</th>\n",
       "      <td>2015-01-04</td>\n",
       "      <td>1.10</td>\n",
       "      <td>2578275.12</td>\n",
       "      <td>575245.44</td>\n",
       "      <td>1311502.53</td>\n",
       "      <td>181058.65</td>\n",
       "      <td>510468.50</td>\n",
       "      <td>429166.89</td>\n",
       "      <td>80986.81</td>\n",
       "      <td>314.80</td>\n",
       "      <td>conventional</td>\n",
       "      <td>2015</td>\n",
       "      <td>Midsouth</td>\n",
       "    </tr>\n",
       "    <tr>\n",
       "      <th>26</th>\n",
       "      <td>2015-01-04</td>\n",
       "      <td>NaN</td>\n",
       "      <td>162162.75</td>\n",
       "      <td>113865.83</td>\n",
       "      <td>11083.58</td>\n",
       "      <td>11699.03</td>\n",
       "      <td>25514.31</td>\n",
       "      <td>19681.13</td>\n",
       "      <td>5611.51</td>\n",
       "      <td>221.67</td>\n",
       "      <td>conventional</td>\n",
       "      <td>2015</td>\n",
       "      <td>Nashville</td>\n",
       "    </tr>\n",
       "    <tr>\n",
       "      <th>27</th>\n",
       "      <td>2015-01-04</td>\n",
       "      <td>0.94</td>\n",
       "      <td>222751.51</td>\n",
       "      <td>148384.22</td>\n",
       "      <td>14085.72</td>\n",
       "      <td>218.63</td>\n",
       "      <td>60062.94</td>\n",
       "      <td>54422.22</td>\n",
       "      <td>5640.72</td>\n",
       "      <td>0.00</td>\n",
       "      <td>conventional</td>\n",
       "      <td>2015</td>\n",
       "      <td>NewOrleansMobile</td>\n",
       "    </tr>\n",
       "    <tr>\n",
       "      <th>28</th>\n",
       "      <td>2015-01-04</td>\n",
       "      <td>1.09</td>\n",
       "      <td>NaN</td>\n",
       "      <td>23641.00</td>\n",
       "      <td>1127882.44</td>\n",
       "      <td>1871.07</td>\n",
       "      <td>249495.69</td>\n",
       "      <td>178683.01</td>\n",
       "      <td>70812.68</td>\n",
       "      <td>0.00</td>\n",
       "      <td>conventional</td>\n",
       "      <td>2015</td>\n",
       "      <td>NewYork</td>\n",
       "    </tr>\n",
       "    <tr>\n",
       "      <th>29</th>\n",
       "      <td>2015-01-04</td>\n",
       "      <td>1.09</td>\n",
       "      <td>3759282.62</td>\n",
       "      <td>126640.65</td>\n",
       "      <td>2860709.93</td>\n",
       "      <td>7580.38</td>\n",
       "      <td>764351.66</td>\n",
       "      <td>669970.50</td>\n",
       "      <td>94381.16</td>\n",
       "      <td>0.00</td>\n",
       "      <td>conventional</td>\n",
       "      <td>2015</td>\n",
       "      <td>Northeast</td>\n",
       "    </tr>\n",
       "    <tr>\n",
       "      <th>...</th>\n",
       "      <td>...</td>\n",
       "      <td>...</td>\n",
       "      <td>...</td>\n",
       "      <td>...</td>\n",
       "      <td>...</td>\n",
       "      <td>...</td>\n",
       "      <td>...</td>\n",
       "      <td>...</td>\n",
       "      <td>...</td>\n",
       "      <td>...</td>\n",
       "      <td>...</td>\n",
       "      <td>...</td>\n",
       "      <td>...</td>\n",
       "    </tr>\n",
       "    <tr>\n",
       "      <th>25131</th>\n",
       "      <td>2019-07-14</td>\n",
       "      <td>1.13</td>\n",
       "      <td>10013.91</td>\n",
       "      <td>455.87</td>\n",
       "      <td>15.82</td>\n",
       "      <td>0.00</td>\n",
       "      <td>9542.22</td>\n",
       "      <td>9535.55</td>\n",
       "      <td>6.67</td>\n",
       "      <td>0.00</td>\n",
       "      <td>organic</td>\n",
       "      <td>2019</td>\n",
       "      <td>MiamiFtLauderdale</td>\n",
       "    </tr>\n",
       "    <tr>\n",
       "      <th>25132</th>\n",
       "      <td>2019-07-14</td>\n",
       "      <td>1.94</td>\n",
       "      <td>170570.37</td>\n",
       "      <td>1275.83</td>\n",
       "      <td>33571.66</td>\n",
       "      <td>308.95</td>\n",
       "      <td>135413.93</td>\n",
       "      <td>101380.69</td>\n",
       "      <td>34033.24</td>\n",
       "      <td>0.00</td>\n",
       "      <td>organic</td>\n",
       "      <td>2019</td>\n",
       "      <td>Midsouth</td>\n",
       "    </tr>\n",
       "    <tr>\n",
       "      <th>25133</th>\n",
       "      <td>2019-07-14</td>\n",
       "      <td>2.15</td>\n",
       "      <td>12797.88</td>\n",
       "      <td>102.38</td>\n",
       "      <td>1346.98</td>\n",
       "      <td>0.00</td>\n",
       "      <td>11348.52</td>\n",
       "      <td>4221.06</td>\n",
       "      <td>7127.46</td>\n",
       "      <td>0.00</td>\n",
       "      <td>organic</td>\n",
       "      <td>2019</td>\n",
       "      <td>Nashville</td>\n",
       "    </tr>\n",
       "    <tr>\n",
       "      <th>25134</th>\n",
       "      <td>2019-07-14</td>\n",
       "      <td>1.03</td>\n",
       "      <td>8304.88</td>\n",
       "      <td>80.43</td>\n",
       "      <td>0.00</td>\n",
       "      <td>0.00</td>\n",
       "      <td>8224.45</td>\n",
       "      <td>8224.45</td>\n",
       "      <td>0.00</td>\n",
       "      <td>0.00</td>\n",
       "      <td>organic</td>\n",
       "      <td>2019</td>\n",
       "      <td>NewOrleansMobile</td>\n",
       "    </tr>\n",
       "    <tr>\n",
       "      <th>25135</th>\n",
       "      <td>2019-07-14</td>\n",
       "      <td>2.28</td>\n",
       "      <td>72982.68</td>\n",
       "      <td>12420.25</td>\n",
       "      <td>12904.74</td>\n",
       "      <td>10.09</td>\n",
       "      <td>47647.60</td>\n",
       "      <td>47599.87</td>\n",
       "      <td>47.73</td>\n",
       "      <td>0.00</td>\n",
       "      <td>organic</td>\n",
       "      <td>2019</td>\n",
       "      <td>NewYork</td>\n",
       "    </tr>\n",
       "    <tr>\n",
       "      <th>25136</th>\n",
       "      <td>2019-07-14</td>\n",
       "      <td>1.98</td>\n",
       "      <td>202361.74</td>\n",
       "      <td>18774.85</td>\n",
       "      <td>31180.54</td>\n",
       "      <td>15.01</td>\n",
       "      <td>152391.34</td>\n",
       "      <td>118133.57</td>\n",
       "      <td>34257.77</td>\n",
       "      <td>0.00</td>\n",
       "      <td>organic</td>\n",
       "      <td>2019</td>\n",
       "      <td>Northeast</td>\n",
       "    </tr>\n",
       "    <tr>\n",
       "      <th>25137</th>\n",
       "      <td>2019-07-14</td>\n",
       "      <td>1.73</td>\n",
       "      <td>29290.34</td>\n",
       "      <td>349.98</td>\n",
       "      <td>5339.75</td>\n",
       "      <td>0.00</td>\n",
       "      <td>23600.61</td>\n",
       "      <td>17245.12</td>\n",
       "      <td>6355.49</td>\n",
       "      <td>0.00</td>\n",
       "      <td>organic</td>\n",
       "      <td>2019</td>\n",
       "      <td>NorthernNewEngland</td>\n",
       "    </tr>\n",
       "    <tr>\n",
       "      <th>25138</th>\n",
       "      <td>2019-07-14</td>\n",
       "      <td>1.12</td>\n",
       "      <td>13108.48</td>\n",
       "      <td>140.71</td>\n",
       "      <td>0.00</td>\n",
       "      <td>0.00</td>\n",
       "      <td>12967.77</td>\n",
       "      <td>12967.77</td>\n",
       "      <td>0.00</td>\n",
       "      <td>0.00</td>\n",
       "      <td>organic</td>\n",
       "      <td>2019</td>\n",
       "      <td>Orlando</td>\n",
       "    </tr>\n",
       "    <tr>\n",
       "      <th>25139</th>\n",
       "      <td>2019-07-14</td>\n",
       "      <td>1.78</td>\n",
       "      <td>15666.24</td>\n",
       "      <td>2298.03</td>\n",
       "      <td>2276.44</td>\n",
       "      <td>0.00</td>\n",
       "      <td>11091.77</td>\n",
       "      <td>11007.85</td>\n",
       "      <td>83.92</td>\n",
       "      <td>0.00</td>\n",
       "      <td>organic</td>\n",
       "      <td>2019</td>\n",
       "      <td>Philadelphia</td>\n",
       "    </tr>\n",
       "    <tr>\n",
       "      <th>25140</th>\n",
       "      <td>2019-07-14</td>\n",
       "      <td>1.84</td>\n",
       "      <td>14305.32</td>\n",
       "      <td>2303.20</td>\n",
       "      <td>1838.13</td>\n",
       "      <td>0.00</td>\n",
       "      <td>10163.99</td>\n",
       "      <td>7813.23</td>\n",
       "      <td>2350.76</td>\n",
       "      <td>0.00</td>\n",
       "      <td>organic</td>\n",
       "      <td>2019</td>\n",
       "      <td>PhoenixTucson</td>\n",
       "    </tr>\n",
       "    <tr>\n",
       "      <th>25141</th>\n",
       "      <td>2019-07-14</td>\n",
       "      <td>1.89</td>\n",
       "      <td>4999.72</td>\n",
       "      <td>1049.81</td>\n",
       "      <td>12.37</td>\n",
       "      <td>0.00</td>\n",
       "      <td>3937.54</td>\n",
       "      <td>3930.87</td>\n",
       "      <td>6.67</td>\n",
       "      <td>0.00</td>\n",
       "      <td>organic</td>\n",
       "      <td>2019</td>\n",
       "      <td>Pittsburgh</td>\n",
       "    </tr>\n",
       "    <tr>\n",
       "      <th>25142</th>\n",
       "      <td>2019-07-14</td>\n",
       "      <td>1.85</td>\n",
       "      <td>49282.35</td>\n",
       "      <td>3056.01</td>\n",
       "      <td>7191.94</td>\n",
       "      <td>13.06</td>\n",
       "      <td>39021.34</td>\n",
       "      <td>32574.66</td>\n",
       "      <td>6446.68</td>\n",
       "      <td>0.00</td>\n",
       "      <td>organic</td>\n",
       "      <td>2019</td>\n",
       "      <td>Plains</td>\n",
       "    </tr>\n",
       "    <tr>\n",
       "      <th>25143</th>\n",
       "      <td>2019-07-14</td>\n",
       "      <td>2.71</td>\n",
       "      <td>26269.32</td>\n",
       "      <td>467.72</td>\n",
       "      <td>6722.85</td>\n",
       "      <td>0.00</td>\n",
       "      <td>19078.75</td>\n",
       "      <td>1801.76</td>\n",
       "      <td>17265.89</td>\n",
       "      <td>11.10</td>\n",
       "      <td>organic</td>\n",
       "      <td>2019</td>\n",
       "      <td>Portland</td>\n",
       "    </tr>\n",
       "    <tr>\n",
       "      <th>25144</th>\n",
       "      <td>2019-07-14</td>\n",
       "      <td>2.28</td>\n",
       "      <td>13311.89</td>\n",
       "      <td>102.16</td>\n",
       "      <td>5026.07</td>\n",
       "      <td>50.40</td>\n",
       "      <td>8133.26</td>\n",
       "      <td>7882.13</td>\n",
       "      <td>251.13</td>\n",
       "      <td>0.00</td>\n",
       "      <td>organic</td>\n",
       "      <td>2019</td>\n",
       "      <td>RaleighGreensboro</td>\n",
       "    </tr>\n",
       "    <tr>\n",
       "      <th>25145</th>\n",
       "      <td>2019-07-14</td>\n",
       "      <td>1.73</td>\n",
       "      <td>16558.82</td>\n",
       "      <td>58.60</td>\n",
       "      <td>2440.70</td>\n",
       "      <td>19.08</td>\n",
       "      <td>14040.44</td>\n",
       "      <td>10188.92</td>\n",
       "      <td>3851.52</td>\n",
       "      <td>0.00</td>\n",
       "      <td>organic</td>\n",
       "      <td>2019</td>\n",
       "      <td>RichmondNorfolk</td>\n",
       "    </tr>\n",
       "    <tr>\n",
       "      <th>25146</th>\n",
       "      <td>2019-07-14</td>\n",
       "      <td>2.07</td>\n",
       "      <td>10573.49</td>\n",
       "      <td>92.56</td>\n",
       "      <td>1467.97</td>\n",
       "      <td>0.00</td>\n",
       "      <td>9012.96</td>\n",
       "      <td>4463.52</td>\n",
       "      <td>4549.44</td>\n",
       "      <td>0.00</td>\n",
       "      <td>organic</td>\n",
       "      <td>2019</td>\n",
       "      <td>Roanoke</td>\n",
       "    </tr>\n",
       "    <tr>\n",
       "      <th>25147</th>\n",
       "      <td>2019-07-14</td>\n",
       "      <td>2.13</td>\n",
       "      <td>10599.13</td>\n",
       "      <td>3603.21</td>\n",
       "      <td>3221.53</td>\n",
       "      <td>0.00</td>\n",
       "      <td>3774.39</td>\n",
       "      <td>3771.06</td>\n",
       "      <td>3.33</td>\n",
       "      <td>0.00</td>\n",
       "      <td>organic</td>\n",
       "      <td>2019</td>\n",
       "      <td>Sacramento</td>\n",
       "    </tr>\n",
       "    <tr>\n",
       "      <th>25148</th>\n",
       "      <td>2019-07-14</td>\n",
       "      <td>2.78</td>\n",
       "      <td>15993.79</td>\n",
       "      <td>3362.40</td>\n",
       "      <td>11069.13</td>\n",
       "      <td>0.00</td>\n",
       "      <td>1562.26</td>\n",
       "      <td>745.07</td>\n",
       "      <td>817.19</td>\n",
       "      <td>0.00</td>\n",
       "      <td>organic</td>\n",
       "      <td>2019</td>\n",
       "      <td>SanDiego</td>\n",
       "    </tr>\n",
       "    <tr>\n",
       "      <th>25149</th>\n",
       "      <td>2019-07-14</td>\n",
       "      <td>2.44</td>\n",
       "      <td>28160.02</td>\n",
       "      <td>10890.09</td>\n",
       "      <td>7418.59</td>\n",
       "      <td>0.00</td>\n",
       "      <td>9851.34</td>\n",
       "      <td>9848.08</td>\n",
       "      <td>3.26</td>\n",
       "      <td>0.00</td>\n",
       "      <td>organic</td>\n",
       "      <td>2019</td>\n",
       "      <td>SanFrancisco</td>\n",
       "    </tr>\n",
       "    <tr>\n",
       "      <th>25150</th>\n",
       "      <td>2019-07-14</td>\n",
       "      <td>2.66</td>\n",
       "      <td>41618.36</td>\n",
       "      <td>851.15</td>\n",
       "      <td>13499.91</td>\n",
       "      <td>0.00</td>\n",
       "      <td>27267.30</td>\n",
       "      <td>1340.07</td>\n",
       "      <td>25915.72</td>\n",
       "      <td>11.51</td>\n",
       "      <td>organic</td>\n",
       "      <td>2019</td>\n",
       "      <td>Seattle</td>\n",
       "    </tr>\n",
       "    <tr>\n",
       "      <th>25151</th>\n",
       "      <td>2019-07-14</td>\n",
       "      <td>1.92</td>\n",
       "      <td>18388.22</td>\n",
       "      <td>211.67</td>\n",
       "      <td>3988.14</td>\n",
       "      <td>17.97</td>\n",
       "      <td>14170.44</td>\n",
       "      <td>11680.25</td>\n",
       "      <td>2490.19</td>\n",
       "      <td>0.00</td>\n",
       "      <td>organic</td>\n",
       "      <td>2019</td>\n",
       "      <td>SouthCarolina</td>\n",
       "    </tr>\n",
       "    <tr>\n",
       "      <th>25152</th>\n",
       "      <td>2019-07-14</td>\n",
       "      <td>1.59</td>\n",
       "      <td>135850.62</td>\n",
       "      <td>13396.57</td>\n",
       "      <td>2768.15</td>\n",
       "      <td>4263.07</td>\n",
       "      <td>115422.83</td>\n",
       "      <td>108024.40</td>\n",
       "      <td>7398.43</td>\n",
       "      <td>0.00</td>\n",
       "      <td>organic</td>\n",
       "      <td>2019</td>\n",
       "      <td>SouthCentral</td>\n",
       "    </tr>\n",
       "    <tr>\n",
       "      <th>25153</th>\n",
       "      <td>2019-07-14</td>\n",
       "      <td>1.61</td>\n",
       "      <td>121947.41</td>\n",
       "      <td>1868.33</td>\n",
       "      <td>12203.15</td>\n",
       "      <td>20.34</td>\n",
       "      <td>107855.59</td>\n",
       "      <td>86169.59</td>\n",
       "      <td>21686.00</td>\n",
       "      <td>0.00</td>\n",
       "      <td>organic</td>\n",
       "      <td>2019</td>\n",
       "      <td>Southeast</td>\n",
       "    </tr>\n",
       "    <tr>\n",
       "      <th>25154</th>\n",
       "      <td>2019-07-14</td>\n",
       "      <td>2.46</td>\n",
       "      <td>5032.63</td>\n",
       "      <td>121.45</td>\n",
       "      <td>1306.08</td>\n",
       "      <td>0.00</td>\n",
       "      <td>3605.10</td>\n",
       "      <td>806.67</td>\n",
       "      <td>2798.43</td>\n",
       "      <td>0.00</td>\n",
       "      <td>organic</td>\n",
       "      <td>2019</td>\n",
       "      <td>Spokane</td>\n",
       "    </tr>\n",
       "    <tr>\n",
       "      <th>25155</th>\n",
       "      <td>2019-07-14</td>\n",
       "      <td>2.19</td>\n",
       "      <td>6863.87</td>\n",
       "      <td>56.21</td>\n",
       "      <td>3637.63</td>\n",
       "      <td>5.92</td>\n",
       "      <td>3164.11</td>\n",
       "      <td>3155.89</td>\n",
       "      <td>8.22</td>\n",
       "      <td>0.00</td>\n",
       "      <td>organic</td>\n",
       "      <td>2019</td>\n",
       "      <td>StLouis</td>\n",
       "    </tr>\n",
       "    <tr>\n",
       "      <th>25156</th>\n",
       "      <td>2019-07-14</td>\n",
       "      <td>1.66</td>\n",
       "      <td>4007.93</td>\n",
       "      <td>218.47</td>\n",
       "      <td>252.29</td>\n",
       "      <td>0.00</td>\n",
       "      <td>3537.17</td>\n",
       "      <td>1460.65</td>\n",
       "      <td>2076.52</td>\n",
       "      <td>0.00</td>\n",
       "      <td>organic</td>\n",
       "      <td>2019</td>\n",
       "      <td>Syracuse</td>\n",
       "    </tr>\n",
       "    <tr>\n",
       "      <th>25157</th>\n",
       "      <td>2019-07-14</td>\n",
       "      <td>1.06</td>\n",
       "      <td>3767.89</td>\n",
       "      <td>129.01</td>\n",
       "      <td>0.00</td>\n",
       "      <td>0.00</td>\n",
       "      <td>3638.88</td>\n",
       "      <td>3635.55</td>\n",
       "      <td>3.33</td>\n",
       "      <td>0.00</td>\n",
       "      <td>organic</td>\n",
       "      <td>2019</td>\n",
       "      <td>Tampa</td>\n",
       "    </tr>\n",
       "    <tr>\n",
       "      <th>25158</th>\n",
       "      <td>2019-07-14</td>\n",
       "      <td>1.99</td>\n",
       "      <td>1236969.18</td>\n",
       "      <td>106370.49</td>\n",
       "      <td>209820.63</td>\n",
       "      <td>5606.10</td>\n",
       "      <td>915082.38</td>\n",
       "      <td>667494.94</td>\n",
       "      <td>247562.25</td>\n",
       "      <td>25.19</td>\n",
       "      <td>organic</td>\n",
       "      <td>2019</td>\n",
       "      <td>TotalUS</td>\n",
       "    </tr>\n",
       "    <tr>\n",
       "      <th>25159</th>\n",
       "      <td>2019-07-14</td>\n",
       "      <td>2.33</td>\n",
       "      <td>209408.22</td>\n",
       "      <td>23918.57</td>\n",
       "      <td>42432.02</td>\n",
       "      <td>985.67</td>\n",
       "      <td>142071.96</td>\n",
       "      <td>75883.13</td>\n",
       "      <td>66163.64</td>\n",
       "      <td>25.19</td>\n",
       "      <td>organic</td>\n",
       "      <td>2019</td>\n",
       "      <td>West</td>\n",
       "    </tr>\n",
       "    <tr>\n",
       "      <th>25160</th>\n",
       "      <td>2019-07-14</td>\n",
       "      <td>1.84</td>\n",
       "      <td>16372.24</td>\n",
       "      <td>1195.71</td>\n",
       "      <td>681.10</td>\n",
       "      <td>2765.31</td>\n",
       "      <td>11730.12</td>\n",
       "      <td>10861.33</td>\n",
       "      <td>868.79</td>\n",
       "      <td>0.00</td>\n",
       "      <td>organic</td>\n",
       "      <td>2019</td>\n",
       "      <td>WestTexNewMexico</td>\n",
       "    </tr>\n",
       "  </tbody>\n",
       "</table>\n",
       "<p>25161 rows × 13 columns</p>\n",
       "</div>"
      ],
      "text/plain": [
       "             Date  AveragePrice  TotalVolume        4046        4225  \\\n",
       "0      2015-01-04          1.22     40873.28     2819.50    28287.42   \n",
       "1      2015-01-04          1.00    435021.49   364302.39    23821.16   \n",
       "2      2015-01-04           NaN    788025.06    53987.31   552906.04   \n",
       "3      2015-01-04          1.01     80034.32    44562.12    24964.23   \n",
       "4      2015-01-04          1.02    491738.00     7193.87   396752.18   \n",
       "5      2015-01-04          1.40    116253.44     3267.97    55693.04   \n",
       "6      2015-01-04          0.93   5777334.90  2843648.26  2267755.26   \n",
       "7      2015-01-04          1.19    166006.29    29419.03    47220.75   \n",
       "8      2015-01-04          1.11    783068.03    30270.26   550752.19   \n",
       "9      2015-01-04          0.88    228569.58     3274.30   168764.78   \n",
       "10     2015-01-04          0.89    158638.04    80298.77    51860.47   \n",
       "11     2015-01-04           NaN   1086363.97   612795.80   374420.68   \n",
       "12     2015-01-04          0.99    668086.00   117454.09   429518.41   \n",
       "13     2015-01-04          1.01    369694.27   121634.27   117865.11   \n",
       "14     2015-01-04          0.95    258979.63     1097.00   189348.60   \n",
       "15     2015-01-04          1.02   3382800.12   467259.47  2059657.71   \n",
       "16     2015-01-04           NaN    203939.14    32679.84   121020.54   \n",
       "17     2015-01-04          1.06    332208.14     6387.60   267593.62   \n",
       "18     2015-01-04          0.71   1062990.62         NaN   436347.57   \n",
       "19     2015-01-04          1.02    160130.15     4007.41   118435.79   \n",
       "20     2015-01-04          0.97    153506.84   105203.79    19147.78   \n",
       "21     2015-01-04          0.80    317861.35   134003.07   120628.37   \n",
       "22     2015-01-04          0.85   2682159.95  1837999.65         NaN   \n",
       "23     2015-01-04          0.92    101162.98     1991.63    75090.16   \n",
       "24     2015-01-04          0.97    540234.22   398670.03    54844.33   \n",
       "25     2015-01-04          1.10   2578275.12   575245.44  1311502.53   \n",
       "26     2015-01-04           NaN    162162.75   113865.83    11083.58   \n",
       "27     2015-01-04          0.94    222751.51   148384.22    14085.72   \n",
       "28     2015-01-04          1.09          NaN    23641.00  1127882.44   \n",
       "29     2015-01-04          1.09   3759282.62   126640.65  2860709.93   \n",
       "...           ...           ...          ...         ...         ...   \n",
       "25131  2019-07-14          1.13     10013.91      455.87       15.82   \n",
       "25132  2019-07-14          1.94    170570.37     1275.83    33571.66   \n",
       "25133  2019-07-14          2.15     12797.88      102.38     1346.98   \n",
       "25134  2019-07-14          1.03      8304.88       80.43        0.00   \n",
       "25135  2019-07-14          2.28     72982.68    12420.25    12904.74   \n",
       "25136  2019-07-14          1.98    202361.74    18774.85    31180.54   \n",
       "25137  2019-07-14          1.73     29290.34      349.98     5339.75   \n",
       "25138  2019-07-14          1.12     13108.48      140.71        0.00   \n",
       "25139  2019-07-14          1.78     15666.24     2298.03     2276.44   \n",
       "25140  2019-07-14          1.84     14305.32     2303.20     1838.13   \n",
       "25141  2019-07-14          1.89      4999.72     1049.81       12.37   \n",
       "25142  2019-07-14          1.85     49282.35     3056.01     7191.94   \n",
       "25143  2019-07-14          2.71     26269.32      467.72     6722.85   \n",
       "25144  2019-07-14          2.28     13311.89      102.16     5026.07   \n",
       "25145  2019-07-14          1.73     16558.82       58.60     2440.70   \n",
       "25146  2019-07-14          2.07     10573.49       92.56     1467.97   \n",
       "25147  2019-07-14          2.13     10599.13     3603.21     3221.53   \n",
       "25148  2019-07-14          2.78     15993.79     3362.40    11069.13   \n",
       "25149  2019-07-14          2.44     28160.02    10890.09     7418.59   \n",
       "25150  2019-07-14          2.66     41618.36      851.15    13499.91   \n",
       "25151  2019-07-14          1.92     18388.22      211.67     3988.14   \n",
       "25152  2019-07-14          1.59    135850.62    13396.57     2768.15   \n",
       "25153  2019-07-14          1.61    121947.41     1868.33    12203.15   \n",
       "25154  2019-07-14          2.46      5032.63      121.45     1306.08   \n",
       "25155  2019-07-14          2.19      6863.87       56.21     3637.63   \n",
       "25156  2019-07-14          1.66      4007.93      218.47      252.29   \n",
       "25157  2019-07-14          1.06      3767.89      129.01        0.00   \n",
       "25158  2019-07-14          1.99   1236969.18   106370.49   209820.63   \n",
       "25159  2019-07-14          2.33    209408.22    23918.57    42432.02   \n",
       "25160  2019-07-14          1.84     16372.24     1195.71      681.10   \n",
       "\n",
       "            4770  TotalBags  SmallBags  LargeBags  XLargeBags          type  \\\n",
       "0          49.90    9716.46    9186.93     529.53        0.00  conventional   \n",
       "1          82.15   46815.79   16707.15   30108.64        0.00  conventional   \n",
       "2       39995.03  141136.68  137146.07    3990.61        0.00  conventional   \n",
       "3        2752.35    7755.62    6064.30    1691.32        0.00  conventional   \n",
       "4         128.82   87663.13   87406.84     256.29        0.00  conventional   \n",
       "5         109.55   57182.88   57182.88       0.00        0.00  conventional   \n",
       "6      137479.64  528451.74  477193.38   47882.56     3375.80  conventional   \n",
       "7       38568.95   50797.56        NaN        NaN        0.00  conventional   \n",
       "8      124506.10   77539.48   72888.46    4651.02        0.00  conventional   \n",
       "9        1447.06        NaN   17525.31   37445.46      112.67  conventional   \n",
       "10       7609.24   18869.56   16518.15    2132.21      219.20  conventional   \n",
       "11       9817.28   89330.21   54563.33   34760.08        6.80  conventional   \n",
       "12       5553.60  115559.90   67894.33   47661.52        4.05  conventional   \n",
       "13      74062.76   56132.13   46679.86    1060.51     8391.76  conventional   \n",
       "14      22612.46   45921.57   43899.46    1097.68      924.43  conventional   \n",
       "15     318102.38  537780.56  412779.64  111072.91    13928.01  conventional   \n",
       "16       1286.19   48952.57   47583.64    1368.93        0.00  conventional   \n",
       "17           NaN   58061.57   55401.31    2660.26        0.00  conventional   \n",
       "18       4378.92  115837.55   90299.85   25537.70        0.00  conventional   \n",
       "19           NaN   36485.45   20325.41   16160.04         NaN  conventional   \n",
       "20        468.70   28686.57   13653.15   15033.42        0.00  conventional   \n",
       "21       4591.23   58638.68   58126.59     512.09        0.00  conventional   \n",
       "22      64225.78  255504.05        NaN   36981.72     2950.53  conventional   \n",
       "23        283.88   23797.31    7769.36        NaN        0.00  conventional   \n",
       "24         39.07   86680.79   38505.18   48175.61        0.00  conventional   \n",
       "25     181058.65  510468.50  429166.89   80986.81      314.80  conventional   \n",
       "26      11699.03   25514.31   19681.13    5611.51      221.67  conventional   \n",
       "27        218.63   60062.94   54422.22    5640.72        0.00  conventional   \n",
       "28       1871.07  249495.69  178683.01   70812.68        0.00  conventional   \n",
       "29       7580.38  764351.66  669970.50   94381.16        0.00  conventional   \n",
       "...          ...        ...        ...        ...         ...           ...   \n",
       "25131       0.00    9542.22    9535.55       6.67        0.00       organic   \n",
       "25132     308.95  135413.93  101380.69   34033.24        0.00       organic   \n",
       "25133       0.00   11348.52    4221.06    7127.46        0.00       organic   \n",
       "25134       0.00    8224.45    8224.45       0.00        0.00       organic   \n",
       "25135      10.09   47647.60   47599.87      47.73        0.00       organic   \n",
       "25136      15.01  152391.34  118133.57   34257.77        0.00       organic   \n",
       "25137       0.00   23600.61   17245.12    6355.49        0.00       organic   \n",
       "25138       0.00   12967.77   12967.77       0.00        0.00       organic   \n",
       "25139       0.00   11091.77   11007.85      83.92        0.00       organic   \n",
       "25140       0.00   10163.99    7813.23    2350.76        0.00       organic   \n",
       "25141       0.00    3937.54    3930.87       6.67        0.00       organic   \n",
       "25142      13.06   39021.34   32574.66    6446.68        0.00       organic   \n",
       "25143       0.00   19078.75    1801.76   17265.89       11.10       organic   \n",
       "25144      50.40    8133.26    7882.13     251.13        0.00       organic   \n",
       "25145      19.08   14040.44   10188.92    3851.52        0.00       organic   \n",
       "25146       0.00    9012.96    4463.52    4549.44        0.00       organic   \n",
       "25147       0.00    3774.39    3771.06       3.33        0.00       organic   \n",
       "25148       0.00    1562.26     745.07     817.19        0.00       organic   \n",
       "25149       0.00    9851.34    9848.08       3.26        0.00       organic   \n",
       "25150       0.00   27267.30    1340.07   25915.72       11.51       organic   \n",
       "25151      17.97   14170.44   11680.25    2490.19        0.00       organic   \n",
       "25152    4263.07  115422.83  108024.40    7398.43        0.00       organic   \n",
       "25153      20.34  107855.59   86169.59   21686.00        0.00       organic   \n",
       "25154       0.00    3605.10     806.67    2798.43        0.00       organic   \n",
       "25155       5.92    3164.11    3155.89       8.22        0.00       organic   \n",
       "25156       0.00    3537.17    1460.65    2076.52        0.00       organic   \n",
       "25157       0.00    3638.88    3635.55       3.33        0.00       organic   \n",
       "25158    5606.10  915082.38  667494.94  247562.25       25.19       organic   \n",
       "25159     985.67  142071.96   75883.13   66163.64       25.19       organic   \n",
       "25160    2765.31   11730.12   10861.33     868.79        0.00       organic   \n",
       "\n",
       "       year               region  \n",
       "0      2015               Albany  \n",
       "1      2015              Atlanta  \n",
       "2      2015  BaltimoreWashington  \n",
       "3      2015                Boise  \n",
       "4      2015               Boston  \n",
       "5      2015     BuffaloRochester  \n",
       "6      2015           California  \n",
       "7      2015            Charlotte  \n",
       "8      2015              Chicago  \n",
       "9      2015     CincinnatiDayton  \n",
       "10     2015             Columbus  \n",
       "11     2015        DallasFtWorth  \n",
       "12     2015               Denver  \n",
       "13     2015              Detroit  \n",
       "14     2015          GrandRapids  \n",
       "15     2015           GreatLakes  \n",
       "16     2015   HarrisburgScranton  \n",
       "17     2015  HartfordSpringfield  \n",
       "18     2015              Houston  \n",
       "19     2015         Indianapolis  \n",
       "20     2015         Jacksonville  \n",
       "21     2015             LasVegas  \n",
       "22     2015           LosAngeles  \n",
       "23     2015           Louisville  \n",
       "24     2015    MiamiFtLauderdale  \n",
       "25     2015             Midsouth  \n",
       "26     2015            Nashville  \n",
       "27     2015     NewOrleansMobile  \n",
       "28     2015              NewYork  \n",
       "29     2015            Northeast  \n",
       "...     ...                  ...  \n",
       "25131  2019    MiamiFtLauderdale  \n",
       "25132  2019             Midsouth  \n",
       "25133  2019            Nashville  \n",
       "25134  2019     NewOrleansMobile  \n",
       "25135  2019              NewYork  \n",
       "25136  2019            Northeast  \n",
       "25137  2019   NorthernNewEngland  \n",
       "25138  2019              Orlando  \n",
       "25139  2019         Philadelphia  \n",
       "25140  2019        PhoenixTucson  \n",
       "25141  2019           Pittsburgh  \n",
       "25142  2019               Plains  \n",
       "25143  2019             Portland  \n",
       "25144  2019    RaleighGreensboro  \n",
       "25145  2019      RichmondNorfolk  \n",
       "25146  2019              Roanoke  \n",
       "25147  2019           Sacramento  \n",
       "25148  2019             SanDiego  \n",
       "25149  2019         SanFrancisco  \n",
       "25150  2019              Seattle  \n",
       "25151  2019        SouthCarolina  \n",
       "25152  2019         SouthCentral  \n",
       "25153  2019            Southeast  \n",
       "25154  2019              Spokane  \n",
       "25155  2019              StLouis  \n",
       "25156  2019             Syracuse  \n",
       "25157  2019                Tampa  \n",
       "25158  2019              TotalUS  \n",
       "25159  2019                 West  \n",
       "25160  2019     WestTexNewMexico  \n",
       "\n",
       "[25161 rows x 13 columns]"
      ]
     },
     "execution_count": 308,
     "metadata": {},
     "output_type": "execute_result"
    }
   ],
   "source": [
    "df1"
   ]
  },
  {
   "cell_type": "code",
   "execution_count": 198,
   "metadata": {},
   "outputs": [
    {
     "data": {
      "text/html": [
       "<div>\n",
       "<style scoped>\n",
       "    .dataframe tbody tr th:only-of-type {\n",
       "        vertical-align: middle;\n",
       "    }\n",
       "\n",
       "    .dataframe tbody tr th {\n",
       "        vertical-align: top;\n",
       "    }\n",
       "\n",
       "    .dataframe thead th {\n",
       "        text-align: right;\n",
       "    }\n",
       "</style>\n",
       "<table border=\"1\" class=\"dataframe\">\n",
       "  <thead>\n",
       "    <tr style=\"text-align: right;\">\n",
       "      <th></th>\n",
       "      <th>Week</th>\n",
       "      <th>avocado: (United States)</th>\n",
       "      <th>organic: (United States)</th>\n",
       "      <th>avocado recipe: (United States)</th>\n",
       "      <th>avocado toast: (United States)</th>\n",
       "      <th>avocado sandwich: (United States)</th>\n",
       "      <th>organic avocado: (United States)</th>\n",
       "    </tr>\n",
       "  </thead>\n",
       "  <tbody>\n",
       "    <tr>\n",
       "      <th>0</th>\n",
       "      <td>2015-01-04</td>\n",
       "      <td>46</td>\n",
       "      <td>76</td>\n",
       "      <td>84</td>\n",
       "      <td>8</td>\n",
       "      <td>51</td>\n",
       "      <td>10</td>\n",
       "    </tr>\n",
       "    <tr>\n",
       "      <th>1</th>\n",
       "      <td>2015-01-11</td>\n",
       "      <td>48</td>\n",
       "      <td>79</td>\n",
       "      <td>76</td>\n",
       "      <td>8</td>\n",
       "      <td>38</td>\n",
       "      <td>29</td>\n",
       "    </tr>\n",
       "    <tr>\n",
       "      <th>2</th>\n",
       "      <td>2015-01-18</td>\n",
       "      <td>48</td>\n",
       "      <td>82</td>\n",
       "      <td>84</td>\n",
       "      <td>9</td>\n",
       "      <td>66</td>\n",
       "      <td>27</td>\n",
       "    </tr>\n",
       "    <tr>\n",
       "      <th>3</th>\n",
       "      <td>2015-01-25</td>\n",
       "      <td>49</td>\n",
       "      <td>82</td>\n",
       "      <td>89</td>\n",
       "      <td>8</td>\n",
       "      <td>44</td>\n",
       "      <td>28</td>\n",
       "    </tr>\n",
       "    <tr>\n",
       "      <th>4</th>\n",
       "      <td>2015-02-01</td>\n",
       "      <td>52</td>\n",
       "      <td>81</td>\n",
       "      <td>82</td>\n",
       "      <td>7</td>\n",
       "      <td>46</td>\n",
       "      <td>42</td>\n",
       "    </tr>\n",
       "  </tbody>\n",
       "</table>\n",
       "</div>"
      ],
      "text/plain": [
       "         Week  avocado: (United States)  organic: (United States)  \\\n",
       "0  2015-01-04                        46                        76   \n",
       "1  2015-01-11                        48                        79   \n",
       "2  2015-01-18                        48                        82   \n",
       "3  2015-01-25                        49                        82   \n",
       "4  2015-02-01                        52                        81   \n",
       "\n",
       "   avocado recipe: (United States)  avocado toast: (United States)  \\\n",
       "0                               84                               8   \n",
       "1                               76                               8   \n",
       "2                               84                               9   \n",
       "3                               89                               8   \n",
       "4                               82                               7   \n",
       "\n",
       "   avocado sandwich: (United States)  organic avocado: (United States)  \n",
       "0                                 51                                10  \n",
       "1                                 38                                29  \n",
       "2                                 66                                27  \n",
       "3                                 44                                28  \n",
       "4                                 46                                42  "
      ]
     },
     "execution_count": 198,
     "metadata": {},
     "output_type": "execute_result"
    }
   ],
   "source": [
    "df2.head()"
   ]
  },
  {
   "cell_type": "code",
   "execution_count": 199,
   "metadata": {},
   "outputs": [
    {
     "name": "stdout",
     "output_type": "stream",
     "text": [
      "number of regions: 54\n"
     ]
    }
   ],
   "source": [
    "unqReg  = df1['region'].unique()\n",
    "print('number of regions:',len(unqReg))"
   ]
  },
  {
   "cell_type": "code",
   "execution_count": 200,
   "metadata": {},
   "outputs": [
    {
     "name": "stdout",
     "output_type": "stream",
     "text": [
      "year: [2015 2016 2017 2018 2019] number of years: 5\n"
     ]
    }
   ],
   "source": [
    "unqYEAR = df1['year'].unique()\n",
    "print('year:',unqYEAR,'number of years:',len(unqYEAR))"
   ]
  },
  {
   "cell_type": "code",
   "execution_count": 201,
   "metadata": {},
   "outputs": [
    {
     "name": "stdout",
     "output_type": "stream",
     "text": [
      "avocado types: ['conventional' 'organic'] number of avocado types: 2\n"
     ]
    }
   ],
   "source": [
    "unqAVC  = df1['type'].unique()\n",
    "print('avocado types:',unqAVC,'number of avocado types:',len(unqAVC))"
   ]
  },
  {
   "cell_type": "markdown",
   "metadata": {},
   "source": [
    "Get some statistics: average price, standard deviation, min/max and quantiles. "
   ]
  },
  {
   "cell_type": "code",
   "execution_count": 202,
   "metadata": {},
   "outputs": [
    {
     "data": {
      "text/html": [
       "<div>\n",
       "<style scoped>\n",
       "    .dataframe tbody tr th:only-of-type {\n",
       "        vertical-align: middle;\n",
       "    }\n",
       "\n",
       "    .dataframe tbody tr th {\n",
       "        vertical-align: top;\n",
       "    }\n",
       "\n",
       "    .dataframe thead th {\n",
       "        text-align: right;\n",
       "    }\n",
       "</style>\n",
       "<table border=\"1\" class=\"dataframe\">\n",
       "  <thead>\n",
       "    <tr style=\"text-align: right;\">\n",
       "      <th></th>\n",
       "      <th>AveragePrice</th>\n",
       "      <th>TotalVolume</th>\n",
       "      <th>4046</th>\n",
       "      <th>4225</th>\n",
       "      <th>4770</th>\n",
       "      <th>TotalBags</th>\n",
       "      <th>SmallBags</th>\n",
       "      <th>LargeBags</th>\n",
       "      <th>XLargeBags</th>\n",
       "      <th>year</th>\n",
       "    </tr>\n",
       "  </thead>\n",
       "  <tbody>\n",
       "    <tr>\n",
       "      <th>count</th>\n",
       "      <td>24259.000000</td>\n",
       "      <td>2.421200e+04</td>\n",
       "      <td>2.426100e+04</td>\n",
       "      <td>2.425500e+04</td>\n",
       "      <td>2.424500e+04</td>\n",
       "      <td>2.427100e+04</td>\n",
       "      <td>2.422700e+04</td>\n",
       "      <td>2.421400e+04</td>\n",
       "      <td>24293.000000</td>\n",
       "      <td>25161.000000</td>\n",
       "    </tr>\n",
       "    <tr>\n",
       "      <th>mean</th>\n",
       "      <td>1.396018</td>\n",
       "      <td>9.170913e+05</td>\n",
       "      <td>2.981530e+05</td>\n",
       "      <td>2.958284e+05</td>\n",
       "      <td>2.246362e+04</td>\n",
       "      <td>2.950432e+05</td>\n",
       "      <td>2.124199e+05</td>\n",
       "      <td>7.589924e+04</td>\n",
       "      <td>4405.638467</td>\n",
       "      <td>2016.776877</td>\n",
       "    </tr>\n",
       "    <tr>\n",
       "      <th>std</th>\n",
       "      <td>0.384476</td>\n",
       "      <td>3.731937e+06</td>\n",
       "      <td>1.288583e+06</td>\n",
       "      <td>1.209445e+06</td>\n",
       "      <td>1.046621e+05</td>\n",
       "      <td>1.232967e+06</td>\n",
       "      <td>8.693043e+05</td>\n",
       "      <td>3.586079e+05</td>\n",
       "      <td>25806.499886</td>\n",
       "      <td>1.323978</td>\n",
       "    </tr>\n",
       "    <tr>\n",
       "      <th>min</th>\n",
       "      <td>0.440000</td>\n",
       "      <td>8.456000e+01</td>\n",
       "      <td>0.000000e+00</td>\n",
       "      <td>0.000000e+00</td>\n",
       "      <td>0.000000e+00</td>\n",
       "      <td>0.000000e+00</td>\n",
       "      <td>0.000000e+00</td>\n",
       "      <td>0.000000e+00</td>\n",
       "      <td>0.000000</td>\n",
       "      <td>2015.000000</td>\n",
       "    </tr>\n",
       "    <tr>\n",
       "      <th>25%</th>\n",
       "      <td>1.110000</td>\n",
       "      <td>1.323404e+04</td>\n",
       "      <td>8.225900e+02</td>\n",
       "      <td>3.061135e+03</td>\n",
       "      <td>0.000000e+00</td>\n",
       "      <td>7.319505e+03</td>\n",
       "      <td>4.770445e+03</td>\n",
       "      <td>2.358200e+02</td>\n",
       "      <td>0.000000</td>\n",
       "      <td>2016.000000</td>\n",
       "    </tr>\n",
       "    <tr>\n",
       "      <th>50%</th>\n",
       "      <td>1.360000</td>\n",
       "      <td>1.190528e+05</td>\n",
       "      <td>9.855110e+03</td>\n",
       "      <td>2.697755e+04</td>\n",
       "      <td>1.937600e+02</td>\n",
       "      <td>4.625771e+04</td>\n",
       "      <td>3.133734e+04</td>\n",
       "      <td>4.043680e+03</td>\n",
       "      <td>0.000000</td>\n",
       "      <td>2017.000000</td>\n",
       "    </tr>\n",
       "    <tr>\n",
       "      <th>75%</th>\n",
       "      <td>1.640000</td>\n",
       "      <td>4.733783e+05</td>\n",
       "      <td>1.141219e+05</td>\n",
       "      <td>1.498719e+05</td>\n",
       "      <td>6.078170e+03</td>\n",
       "      <td>1.394295e+05</td>\n",
       "      <td>1.008827e+05</td>\n",
       "      <td>3.050337e+04</td>\n",
       "      <td>313.890000</td>\n",
       "      <td>2018.000000</td>\n",
       "    </tr>\n",
       "    <tr>\n",
       "      <th>max</th>\n",
       "      <td>3.250000</td>\n",
       "      <td>6.371614e+07</td>\n",
       "      <td>2.274362e+07</td>\n",
       "      <td>2.047057e+07</td>\n",
       "      <td>2.546439e+06</td>\n",
       "      <td>2.347299e+07</td>\n",
       "      <td>1.543625e+07</td>\n",
       "      <td>7.864297e+06</td>\n",
       "      <td>844929.830000</td>\n",
       "      <td>2019.000000</td>\n",
       "    </tr>\n",
       "  </tbody>\n",
       "</table>\n",
       "</div>"
      ],
      "text/plain": [
       "       AveragePrice   TotalVolume          4046          4225          4770  \\\n",
       "count  24259.000000  2.421200e+04  2.426100e+04  2.425500e+04  2.424500e+04   \n",
       "mean       1.396018  9.170913e+05  2.981530e+05  2.958284e+05  2.246362e+04   \n",
       "std        0.384476  3.731937e+06  1.288583e+06  1.209445e+06  1.046621e+05   \n",
       "min        0.440000  8.456000e+01  0.000000e+00  0.000000e+00  0.000000e+00   \n",
       "25%        1.110000  1.323404e+04  8.225900e+02  3.061135e+03  0.000000e+00   \n",
       "50%        1.360000  1.190528e+05  9.855110e+03  2.697755e+04  1.937600e+02   \n",
       "75%        1.640000  4.733783e+05  1.141219e+05  1.498719e+05  6.078170e+03   \n",
       "max        3.250000  6.371614e+07  2.274362e+07  2.047057e+07  2.546439e+06   \n",
       "\n",
       "          TotalBags     SmallBags     LargeBags     XLargeBags          year  \n",
       "count  2.427100e+04  2.422700e+04  2.421400e+04   24293.000000  25161.000000  \n",
       "mean   2.950432e+05  2.124199e+05  7.589924e+04    4405.638467   2016.776877  \n",
       "std    1.232967e+06  8.693043e+05  3.586079e+05   25806.499886      1.323978  \n",
       "min    0.000000e+00  0.000000e+00  0.000000e+00       0.000000   2015.000000  \n",
       "25%    7.319505e+03  4.770445e+03  2.358200e+02       0.000000   2016.000000  \n",
       "50%    4.625771e+04  3.133734e+04  4.043680e+03       0.000000   2017.000000  \n",
       "75%    1.394295e+05  1.008827e+05  3.050337e+04     313.890000   2018.000000  \n",
       "max    2.347299e+07  1.543625e+07  7.864297e+06  844929.830000   2019.000000  "
      ]
     },
     "execution_count": 202,
     "metadata": {},
     "output_type": "execute_result"
    }
   ],
   "source": [
    "df1.describe()"
   ]
  },
  {
   "cell_type": "code",
   "execution_count": 203,
   "metadata": {},
   "outputs": [
    {
     "data": {
      "text/html": [
       "<div>\n",
       "<style scoped>\n",
       "    .dataframe tbody tr th:only-of-type {\n",
       "        vertical-align: middle;\n",
       "    }\n",
       "\n",
       "    .dataframe tbody tr th {\n",
       "        vertical-align: top;\n",
       "    }\n",
       "\n",
       "    .dataframe thead th {\n",
       "        text-align: right;\n",
       "    }\n",
       "</style>\n",
       "<table border=\"1\" class=\"dataframe\">\n",
       "  <thead>\n",
       "    <tr style=\"text-align: right;\">\n",
       "      <th></th>\n",
       "      <th>avocado: (United States)</th>\n",
       "      <th>organic: (United States)</th>\n",
       "      <th>avocado recipe: (United States)</th>\n",
       "      <th>avocado toast: (United States)</th>\n",
       "      <th>avocado sandwich: (United States)</th>\n",
       "      <th>organic avocado: (United States)</th>\n",
       "    </tr>\n",
       "  </thead>\n",
       "  <tbody>\n",
       "    <tr>\n",
       "      <th>count</th>\n",
       "      <td>239.000000</td>\n",
       "      <td>239.000000</td>\n",
       "      <td>239.000000</td>\n",
       "      <td>239.000000</td>\n",
       "      <td>239.000000</td>\n",
       "      <td>239.000000</td>\n",
       "    </tr>\n",
       "    <tr>\n",
       "      <th>mean</th>\n",
       "      <td>52.309623</td>\n",
       "      <td>82.497908</td>\n",
       "      <td>66.991632</td>\n",
       "      <td>32.711297</td>\n",
       "      <td>50.179916</td>\n",
       "      <td>36.062762</td>\n",
       "    </tr>\n",
       "    <tr>\n",
       "      <th>std</th>\n",
       "      <td>11.291978</td>\n",
       "      <td>6.845764</td>\n",
       "      <td>14.840890</td>\n",
       "      <td>19.542141</td>\n",
       "      <td>12.261723</td>\n",
       "      <td>12.702157</td>\n",
       "    </tr>\n",
       "    <tr>\n",
       "      <th>min</th>\n",
       "      <td>29.000000</td>\n",
       "      <td>56.000000</td>\n",
       "      <td>33.000000</td>\n",
       "      <td>7.000000</td>\n",
       "      <td>15.000000</td>\n",
       "      <td>10.000000</td>\n",
       "    </tr>\n",
       "    <tr>\n",
       "      <th>25%</th>\n",
       "      <td>44.500000</td>\n",
       "      <td>79.000000</td>\n",
       "      <td>55.000000</td>\n",
       "      <td>15.000000</td>\n",
       "      <td>42.000000</td>\n",
       "      <td>27.000000</td>\n",
       "    </tr>\n",
       "    <tr>\n",
       "      <th>50%</th>\n",
       "      <td>52.000000</td>\n",
       "      <td>83.000000</td>\n",
       "      <td>68.000000</td>\n",
       "      <td>30.000000</td>\n",
       "      <td>50.000000</td>\n",
       "      <td>35.000000</td>\n",
       "    </tr>\n",
       "    <tr>\n",
       "      <th>75%</th>\n",
       "      <td>60.000000</td>\n",
       "      <td>87.000000</td>\n",
       "      <td>78.500000</td>\n",
       "      <td>50.500000</td>\n",
       "      <td>59.000000</td>\n",
       "      <td>44.500000</td>\n",
       "    </tr>\n",
       "    <tr>\n",
       "      <th>max</th>\n",
       "      <td>100.000000</td>\n",
       "      <td>100.000000</td>\n",
       "      <td>100.000000</td>\n",
       "      <td>100.000000</td>\n",
       "      <td>100.000000</td>\n",
       "      <td>100.000000</td>\n",
       "    </tr>\n",
       "  </tbody>\n",
       "</table>\n",
       "</div>"
      ],
      "text/plain": [
       "       avocado: (United States)  organic: (United States)  \\\n",
       "count                239.000000                239.000000   \n",
       "mean                  52.309623                 82.497908   \n",
       "std                   11.291978                  6.845764   \n",
       "min                   29.000000                 56.000000   \n",
       "25%                   44.500000                 79.000000   \n",
       "50%                   52.000000                 83.000000   \n",
       "75%                   60.000000                 87.000000   \n",
       "max                  100.000000                100.000000   \n",
       "\n",
       "       avocado recipe: (United States)  avocado toast: (United States)  \\\n",
       "count                       239.000000                      239.000000   \n",
       "mean                         66.991632                       32.711297   \n",
       "std                          14.840890                       19.542141   \n",
       "min                          33.000000                        7.000000   \n",
       "25%                          55.000000                       15.000000   \n",
       "50%                          68.000000                       30.000000   \n",
       "75%                          78.500000                       50.500000   \n",
       "max                         100.000000                      100.000000   \n",
       "\n",
       "       avocado sandwich: (United States)  organic avocado: (United States)  \n",
       "count                         239.000000                        239.000000  \n",
       "mean                           50.179916                         36.062762  \n",
       "std                            12.261723                         12.702157  \n",
       "min                            15.000000                         10.000000  \n",
       "25%                            42.000000                         27.000000  \n",
       "50%                            50.000000                         35.000000  \n",
       "75%                            59.000000                         44.500000  \n",
       "max                           100.000000                        100.000000  "
      ]
     },
     "execution_count": 203,
     "metadata": {},
     "output_type": "execute_result"
    }
   ],
   "source": [
    "df2.describe()"
   ]
  },
  {
   "cell_type": "markdown",
   "metadata": {},
   "source": [
    "## Preprocessing\n",
    "\n",
    "1. Removing/filling NaN\n",
    "2. converting date to numeric\n",
    "3. converting region to numeric "
   ]
  },
  {
   "cell_type": "code",
   "execution_count": 204,
   "metadata": {},
   "outputs": [],
   "source": [
    "df1['Date'] = pd.to_datetime(df1['Date'])\n",
    "df1['Date'] = df1['Date'].dt.week\n",
    "df1.rename(columns={'Date': 'Week'}, inplace=True)"
   ]
  },
  {
   "cell_type": "code",
   "execution_count": 205,
   "metadata": {},
   "outputs": [
    {
     "data": {
      "text/html": [
       "<div>\n",
       "<style scoped>\n",
       "    .dataframe tbody tr th:only-of-type {\n",
       "        vertical-align: middle;\n",
       "    }\n",
       "\n",
       "    .dataframe tbody tr th {\n",
       "        vertical-align: top;\n",
       "    }\n",
       "\n",
       "    .dataframe thead th {\n",
       "        text-align: right;\n",
       "    }\n",
       "</style>\n",
       "<table border=\"1\" class=\"dataframe\">\n",
       "  <thead>\n",
       "    <tr style=\"text-align: right;\">\n",
       "      <th></th>\n",
       "      <th>Week</th>\n",
       "      <th>AveragePrice</th>\n",
       "      <th>TotalVolume</th>\n",
       "      <th>4046</th>\n",
       "      <th>4225</th>\n",
       "      <th>4770</th>\n",
       "      <th>TotalBags</th>\n",
       "      <th>SmallBags</th>\n",
       "      <th>LargeBags</th>\n",
       "      <th>XLargeBags</th>\n",
       "      <th>type</th>\n",
       "      <th>year</th>\n",
       "      <th>region</th>\n",
       "    </tr>\n",
       "  </thead>\n",
       "  <tbody>\n",
       "    <tr>\n",
       "      <th>0</th>\n",
       "      <td>1</td>\n",
       "      <td>1.22</td>\n",
       "      <td>40873.28</td>\n",
       "      <td>2819.50</td>\n",
       "      <td>28287.42</td>\n",
       "      <td>49.90</td>\n",
       "      <td>9716.46</td>\n",
       "      <td>9186.93</td>\n",
       "      <td>529.53</td>\n",
       "      <td>0.0</td>\n",
       "      <td>conventional</td>\n",
       "      <td>2015</td>\n",
       "      <td>Albany</td>\n",
       "    </tr>\n",
       "    <tr>\n",
       "      <th>1</th>\n",
       "      <td>1</td>\n",
       "      <td>1.00</td>\n",
       "      <td>435021.49</td>\n",
       "      <td>364302.39</td>\n",
       "      <td>23821.16</td>\n",
       "      <td>82.15</td>\n",
       "      <td>46815.79</td>\n",
       "      <td>16707.15</td>\n",
       "      <td>30108.64</td>\n",
       "      <td>0.0</td>\n",
       "      <td>conventional</td>\n",
       "      <td>2015</td>\n",
       "      <td>Atlanta</td>\n",
       "    </tr>\n",
       "    <tr>\n",
       "      <th>2</th>\n",
       "      <td>1</td>\n",
       "      <td>NaN</td>\n",
       "      <td>788025.06</td>\n",
       "      <td>53987.31</td>\n",
       "      <td>552906.04</td>\n",
       "      <td>39995.03</td>\n",
       "      <td>141136.68</td>\n",
       "      <td>137146.07</td>\n",
       "      <td>3990.61</td>\n",
       "      <td>0.0</td>\n",
       "      <td>conventional</td>\n",
       "      <td>2015</td>\n",
       "      <td>BaltimoreWashington</td>\n",
       "    </tr>\n",
       "    <tr>\n",
       "      <th>3</th>\n",
       "      <td>1</td>\n",
       "      <td>1.01</td>\n",
       "      <td>80034.32</td>\n",
       "      <td>44562.12</td>\n",
       "      <td>24964.23</td>\n",
       "      <td>2752.35</td>\n",
       "      <td>7755.62</td>\n",
       "      <td>6064.30</td>\n",
       "      <td>1691.32</td>\n",
       "      <td>0.0</td>\n",
       "      <td>conventional</td>\n",
       "      <td>2015</td>\n",
       "      <td>Boise</td>\n",
       "    </tr>\n",
       "    <tr>\n",
       "      <th>4</th>\n",
       "      <td>1</td>\n",
       "      <td>1.02</td>\n",
       "      <td>491738.00</td>\n",
       "      <td>7193.87</td>\n",
       "      <td>396752.18</td>\n",
       "      <td>128.82</td>\n",
       "      <td>87663.13</td>\n",
       "      <td>87406.84</td>\n",
       "      <td>256.29</td>\n",
       "      <td>0.0</td>\n",
       "      <td>conventional</td>\n",
       "      <td>2015</td>\n",
       "      <td>Boston</td>\n",
       "    </tr>\n",
       "  </tbody>\n",
       "</table>\n",
       "</div>"
      ],
      "text/plain": [
       "   Week  AveragePrice  TotalVolume       4046       4225      4770  TotalBags  \\\n",
       "0     1          1.22     40873.28    2819.50   28287.42     49.90    9716.46   \n",
       "1     1          1.00    435021.49  364302.39   23821.16     82.15   46815.79   \n",
       "2     1           NaN    788025.06   53987.31  552906.04  39995.03  141136.68   \n",
       "3     1          1.01     80034.32   44562.12   24964.23   2752.35    7755.62   \n",
       "4     1          1.02    491738.00    7193.87  396752.18    128.82   87663.13   \n",
       "\n",
       "   SmallBags  LargeBags  XLargeBags          type  year               region  \n",
       "0    9186.93     529.53         0.0  conventional  2015               Albany  \n",
       "1   16707.15   30108.64         0.0  conventional  2015              Atlanta  \n",
       "2  137146.07    3990.61         0.0  conventional  2015  BaltimoreWashington  \n",
       "3    6064.30    1691.32         0.0  conventional  2015                Boise  \n",
       "4   87406.84     256.29         0.0  conventional  2015               Boston  "
      ]
     },
     "execution_count": 205,
     "metadata": {},
     "output_type": "execute_result"
    }
   ],
   "source": [
    "df1.head()"
   ]
  },
  {
   "cell_type": "code",
   "execution_count": 206,
   "metadata": {},
   "outputs": [],
   "source": [
    "# Converting to week to get numerical value\n",
    "df2['Week'] = pd.to_datetime(df2['Week'])\n",
    "df2['year'] = df2['Week'].dt.year\n",
    "df2['Week'] = df2['Week'].dt.week"
   ]
  },
  {
   "cell_type": "code",
   "execution_count": 207,
   "metadata": {},
   "outputs": [
    {
     "data": {
      "text/html": [
       "<div>\n",
       "<style scoped>\n",
       "    .dataframe tbody tr th:only-of-type {\n",
       "        vertical-align: middle;\n",
       "    }\n",
       "\n",
       "    .dataframe tbody tr th {\n",
       "        vertical-align: top;\n",
       "    }\n",
       "\n",
       "    .dataframe thead th {\n",
       "        text-align: right;\n",
       "    }\n",
       "</style>\n",
       "<table border=\"1\" class=\"dataframe\">\n",
       "  <thead>\n",
       "    <tr style=\"text-align: right;\">\n",
       "      <th></th>\n",
       "      <th>Week</th>\n",
       "      <th>avocado: (United States)</th>\n",
       "      <th>organic: (United States)</th>\n",
       "      <th>avocado recipe: (United States)</th>\n",
       "      <th>avocado toast: (United States)</th>\n",
       "      <th>avocado sandwich: (United States)</th>\n",
       "      <th>organic avocado: (United States)</th>\n",
       "      <th>year</th>\n",
       "    </tr>\n",
       "  </thead>\n",
       "  <tbody>\n",
       "    <tr>\n",
       "      <th>0</th>\n",
       "      <td>1</td>\n",
       "      <td>46</td>\n",
       "      <td>76</td>\n",
       "      <td>84</td>\n",
       "      <td>8</td>\n",
       "      <td>51</td>\n",
       "      <td>10</td>\n",
       "      <td>2015</td>\n",
       "    </tr>\n",
       "    <tr>\n",
       "      <th>1</th>\n",
       "      <td>2</td>\n",
       "      <td>48</td>\n",
       "      <td>79</td>\n",
       "      <td>76</td>\n",
       "      <td>8</td>\n",
       "      <td>38</td>\n",
       "      <td>29</td>\n",
       "      <td>2015</td>\n",
       "    </tr>\n",
       "    <tr>\n",
       "      <th>2</th>\n",
       "      <td>3</td>\n",
       "      <td>48</td>\n",
       "      <td>82</td>\n",
       "      <td>84</td>\n",
       "      <td>9</td>\n",
       "      <td>66</td>\n",
       "      <td>27</td>\n",
       "      <td>2015</td>\n",
       "    </tr>\n",
       "    <tr>\n",
       "      <th>3</th>\n",
       "      <td>4</td>\n",
       "      <td>49</td>\n",
       "      <td>82</td>\n",
       "      <td>89</td>\n",
       "      <td>8</td>\n",
       "      <td>44</td>\n",
       "      <td>28</td>\n",
       "      <td>2015</td>\n",
       "    </tr>\n",
       "    <tr>\n",
       "      <th>4</th>\n",
       "      <td>5</td>\n",
       "      <td>52</td>\n",
       "      <td>81</td>\n",
       "      <td>82</td>\n",
       "      <td>7</td>\n",
       "      <td>46</td>\n",
       "      <td>42</td>\n",
       "      <td>2015</td>\n",
       "    </tr>\n",
       "  </tbody>\n",
       "</table>\n",
       "</div>"
      ],
      "text/plain": [
       "   Week  avocado: (United States)  organic: (United States)  \\\n",
       "0     1                        46                        76   \n",
       "1     2                        48                        79   \n",
       "2     3                        48                        82   \n",
       "3     4                        49                        82   \n",
       "4     5                        52                        81   \n",
       "\n",
       "   avocado recipe: (United States)  avocado toast: (United States)  \\\n",
       "0                               84                               8   \n",
       "1                               76                               8   \n",
       "2                               84                               9   \n",
       "3                               89                               8   \n",
       "4                               82                               7   \n",
       "\n",
       "   avocado sandwich: (United States)  organic avocado: (United States)  year  \n",
       "0                                 51                                10  2015  \n",
       "1                                 38                                29  2015  \n",
       "2                                 66                                27  2015  \n",
       "3                                 44                                28  2015  \n",
       "4                                 46                                42  2015  "
      ]
     },
     "execution_count": 207,
     "metadata": {},
     "output_type": "execute_result"
    }
   ],
   "source": [
    "df2.head()"
   ]
  },
  {
   "cell_type": "code",
   "execution_count": 208,
   "metadata": {},
   "outputs": [],
   "source": [
    "# Merge dataframes on week\n",
    "df = pd.merge(df1, df2, how='left', left_on=['Week','year'],right_on=['Week','year'])"
   ]
  },
  {
   "cell_type": "markdown",
   "metadata": {},
   "source": [
    "Check for NaN values"
   ]
  },
  {
   "cell_type": "code",
   "execution_count": 209,
   "metadata": {},
   "outputs": [
    {
     "data": {
      "text/plain": [
       "Week                                   0\n",
       "AveragePrice                         913\n",
       "TotalVolume                          958\n",
       "4046                                 911\n",
       "4225                                 919\n",
       "4770                                 928\n",
       "TotalBags                            903\n",
       "SmallBags                            944\n",
       "LargeBags                            952\n",
       "XLargeBags                           881\n",
       "type                                   0\n",
       "year                                   0\n",
       "region                                 0\n",
       "avocado: (United States)               0\n",
       "organic: (United States)               0\n",
       "avocado recipe: (United States)        0\n",
       "avocado toast: (United States)         0\n",
       "avocado sandwich: (United States)      0\n",
       "organic avocado: (United States)       0\n",
       "dtype: int64"
      ]
     },
     "execution_count": 209,
     "metadata": {},
     "output_type": "execute_result"
    }
   ],
   "source": [
    "df.isnull().sum()"
   ]
  },
  {
   "cell_type": "code",
   "execution_count": 210,
   "metadata": {},
   "outputs": [
    {
     "data": {
      "text/plain": [
       "Week                                     0\n",
       "AveragePrice                             0\n",
       "TotalVolume                              0\n",
       "4046                                   321\n",
       "4225                                   116\n",
       "4770                                  7611\n",
       "TotalBags                               14\n",
       "SmallBags                              150\n",
       "LargeBags                             2744\n",
       "XLargeBags                           15093\n",
       "type                                     0\n",
       "year                                     0\n",
       "region                                   0\n",
       "avocado: (United States)                 0\n",
       "organic: (United States)                 0\n",
       "avocado recipe: (United States)          0\n",
       "avocado toast: (United States)           0\n",
       "avocado sandwich: (United States)        0\n",
       "organic avocado: (United States)         0\n",
       "dtype: int64"
      ]
     },
     "execution_count": 210,
     "metadata": {},
     "output_type": "execute_result"
    }
   ],
   "source": [
    "(df == 0.0).sum(axis=0) "
   ]
  },
  {
   "cell_type": "markdown",
   "metadata": {},
   "source": [
    "Need to fill/drop NaN values. I will fill these values with the mean of the value from all regions."
   ]
  },
  {
   "cell_type": "code",
   "execution_count": 211,
   "metadata": {},
   "outputs": [],
   "source": [
    "#df_fill = df.copy()\n",
    "#filnan = list(df.columns)\n",
    "\n",
    "#for i in filnan[1:10]:\n",
    "#    df_fill[i] = df_fill[i].fillna(df_fill[i].mean())\n",
    "\n",
    "df_fill = df.copy()\n",
    "df_fill.dropna(inplace=True)"
   ]
  },
  {
   "cell_type": "code",
   "execution_count": 212,
   "metadata": {},
   "outputs": [
    {
     "data": {
      "text/plain": [
       "Week                                 0\n",
       "AveragePrice                         0\n",
       "TotalVolume                          0\n",
       "4046                                 0\n",
       "4225                                 0\n",
       "4770                                 0\n",
       "TotalBags                            0\n",
       "SmallBags                            0\n",
       "LargeBags                            0\n",
       "XLargeBags                           0\n",
       "type                                 0\n",
       "year                                 0\n",
       "region                               0\n",
       "avocado: (United States)             0\n",
       "organic: (United States)             0\n",
       "avocado recipe: (United States)      0\n",
       "avocado toast: (United States)       0\n",
       "avocado sandwich: (United States)    0\n",
       "organic avocado: (United States)     0\n",
       "dtype: int64"
      ]
     },
     "execution_count": 212,
     "metadata": {},
     "output_type": "execute_result"
    }
   ],
   "source": [
    "df_fill.isnull().sum()"
   ]
  },
  {
   "cell_type": "code",
   "execution_count": 213,
   "metadata": {},
   "outputs": [
    {
     "data": {
      "text/html": [
       "<div>\n",
       "<style scoped>\n",
       "    .dataframe tbody tr th:only-of-type {\n",
       "        vertical-align: middle;\n",
       "    }\n",
       "\n",
       "    .dataframe tbody tr th {\n",
       "        vertical-align: top;\n",
       "    }\n",
       "\n",
       "    .dataframe thead th {\n",
       "        text-align: right;\n",
       "    }\n",
       "</style>\n",
       "<table border=\"1\" class=\"dataframe\">\n",
       "  <thead>\n",
       "    <tr style=\"text-align: right;\">\n",
       "      <th></th>\n",
       "      <th>Week</th>\n",
       "      <th>AveragePrice</th>\n",
       "      <th>TotalVolume</th>\n",
       "      <th>4046</th>\n",
       "      <th>4225</th>\n",
       "      <th>4770</th>\n",
       "      <th>TotalBags</th>\n",
       "      <th>SmallBags</th>\n",
       "      <th>LargeBags</th>\n",
       "      <th>XLargeBags</th>\n",
       "      <th>type</th>\n",
       "      <th>year</th>\n",
       "      <th>region</th>\n",
       "      <th>avocado: (United States)</th>\n",
       "      <th>organic: (United States)</th>\n",
       "      <th>avocado recipe: (United States)</th>\n",
       "      <th>avocado toast: (United States)</th>\n",
       "      <th>avocado sandwich: (United States)</th>\n",
       "      <th>organic avocado: (United States)</th>\n",
       "    </tr>\n",
       "  </thead>\n",
       "  <tbody>\n",
       "    <tr>\n",
       "      <th>0</th>\n",
       "      <td>1</td>\n",
       "      <td>1.22</td>\n",
       "      <td>40873.28</td>\n",
       "      <td>2819.50</td>\n",
       "      <td>28287.42</td>\n",
       "      <td>49.90</td>\n",
       "      <td>9716.46</td>\n",
       "      <td>9186.93</td>\n",
       "      <td>529.53</td>\n",
       "      <td>0.0</td>\n",
       "      <td>conventional</td>\n",
       "      <td>2015</td>\n",
       "      <td>Albany</td>\n",
       "      <td>46</td>\n",
       "      <td>76</td>\n",
       "      <td>84</td>\n",
       "      <td>8</td>\n",
       "      <td>51</td>\n",
       "      <td>10</td>\n",
       "    </tr>\n",
       "    <tr>\n",
       "      <th>1</th>\n",
       "      <td>1</td>\n",
       "      <td>1.00</td>\n",
       "      <td>435021.49</td>\n",
       "      <td>364302.39</td>\n",
       "      <td>23821.16</td>\n",
       "      <td>82.15</td>\n",
       "      <td>46815.79</td>\n",
       "      <td>16707.15</td>\n",
       "      <td>30108.64</td>\n",
       "      <td>0.0</td>\n",
       "      <td>conventional</td>\n",
       "      <td>2015</td>\n",
       "      <td>Atlanta</td>\n",
       "      <td>46</td>\n",
       "      <td>76</td>\n",
       "      <td>84</td>\n",
       "      <td>8</td>\n",
       "      <td>51</td>\n",
       "      <td>10</td>\n",
       "    </tr>\n",
       "    <tr>\n",
       "      <th>3</th>\n",
       "      <td>1</td>\n",
       "      <td>1.01</td>\n",
       "      <td>80034.32</td>\n",
       "      <td>44562.12</td>\n",
       "      <td>24964.23</td>\n",
       "      <td>2752.35</td>\n",
       "      <td>7755.62</td>\n",
       "      <td>6064.30</td>\n",
       "      <td>1691.32</td>\n",
       "      <td>0.0</td>\n",
       "      <td>conventional</td>\n",
       "      <td>2015</td>\n",
       "      <td>Boise</td>\n",
       "      <td>46</td>\n",
       "      <td>76</td>\n",
       "      <td>84</td>\n",
       "      <td>8</td>\n",
       "      <td>51</td>\n",
       "      <td>10</td>\n",
       "    </tr>\n",
       "    <tr>\n",
       "      <th>4</th>\n",
       "      <td>1</td>\n",
       "      <td>1.02</td>\n",
       "      <td>491738.00</td>\n",
       "      <td>7193.87</td>\n",
       "      <td>396752.18</td>\n",
       "      <td>128.82</td>\n",
       "      <td>87663.13</td>\n",
       "      <td>87406.84</td>\n",
       "      <td>256.29</td>\n",
       "      <td>0.0</td>\n",
       "      <td>conventional</td>\n",
       "      <td>2015</td>\n",
       "      <td>Boston</td>\n",
       "      <td>46</td>\n",
       "      <td>76</td>\n",
       "      <td>84</td>\n",
       "      <td>8</td>\n",
       "      <td>51</td>\n",
       "      <td>10</td>\n",
       "    </tr>\n",
       "    <tr>\n",
       "      <th>5</th>\n",
       "      <td>1</td>\n",
       "      <td>1.40</td>\n",
       "      <td>116253.44</td>\n",
       "      <td>3267.97</td>\n",
       "      <td>55693.04</td>\n",
       "      <td>109.55</td>\n",
       "      <td>57182.88</td>\n",
       "      <td>57182.88</td>\n",
       "      <td>0.00</td>\n",
       "      <td>0.0</td>\n",
       "      <td>conventional</td>\n",
       "      <td>2015</td>\n",
       "      <td>BuffaloRochester</td>\n",
       "      <td>46</td>\n",
       "      <td>76</td>\n",
       "      <td>84</td>\n",
       "      <td>8</td>\n",
       "      <td>51</td>\n",
       "      <td>10</td>\n",
       "    </tr>\n",
       "  </tbody>\n",
       "</table>\n",
       "</div>"
      ],
      "text/plain": [
       "   Week  AveragePrice  TotalVolume       4046       4225     4770  TotalBags  \\\n",
       "0     1          1.22     40873.28    2819.50   28287.42    49.90    9716.46   \n",
       "1     1          1.00    435021.49  364302.39   23821.16    82.15   46815.79   \n",
       "3     1          1.01     80034.32   44562.12   24964.23  2752.35    7755.62   \n",
       "4     1          1.02    491738.00    7193.87  396752.18   128.82   87663.13   \n",
       "5     1          1.40    116253.44    3267.97   55693.04   109.55   57182.88   \n",
       "\n",
       "   SmallBags  LargeBags  XLargeBags          type  year            region  \\\n",
       "0    9186.93     529.53         0.0  conventional  2015            Albany   \n",
       "1   16707.15   30108.64         0.0  conventional  2015           Atlanta   \n",
       "3    6064.30    1691.32         0.0  conventional  2015             Boise   \n",
       "4   87406.84     256.29         0.0  conventional  2015            Boston   \n",
       "5   57182.88       0.00         0.0  conventional  2015  BuffaloRochester   \n",
       "\n",
       "   avocado: (United States)  organic: (United States)  \\\n",
       "0                        46                        76   \n",
       "1                        46                        76   \n",
       "3                        46                        76   \n",
       "4                        46                        76   \n",
       "5                        46                        76   \n",
       "\n",
       "   avocado recipe: (United States)  avocado toast: (United States)  \\\n",
       "0                               84                               8   \n",
       "1                               84                               8   \n",
       "3                               84                               8   \n",
       "4                               84                               8   \n",
       "5                               84                               8   \n",
       "\n",
       "   avocado sandwich: (United States)  organic avocado: (United States)  \n",
       "0                                 51                                10  \n",
       "1                                 51                                10  \n",
       "3                                 51                                10  \n",
       "4                                 51                                10  \n",
       "5                                 51                                10  "
      ]
     },
     "execution_count": 213,
     "metadata": {},
     "output_type": "execute_result"
    }
   ],
   "source": [
    "df_fill.head()"
   ]
  },
  {
   "cell_type": "code",
   "execution_count": 214,
   "metadata": {},
   "outputs": [
    {
     "data": {
      "text/html": [
       "<div>\n",
       "<style scoped>\n",
       "    .dataframe tbody tr th:only-of-type {\n",
       "        vertical-align: middle;\n",
       "    }\n",
       "\n",
       "    .dataframe tbody tr th {\n",
       "        vertical-align: top;\n",
       "    }\n",
       "\n",
       "    .dataframe thead th {\n",
       "        text-align: right;\n",
       "    }\n",
       "</style>\n",
       "<table border=\"1\" class=\"dataframe\">\n",
       "  <thead>\n",
       "    <tr style=\"text-align: right;\">\n",
       "      <th></th>\n",
       "      <th>Week</th>\n",
       "      <th>AveragePrice</th>\n",
       "      <th>TotalVolume</th>\n",
       "      <th>4046</th>\n",
       "      <th>4225</th>\n",
       "      <th>4770</th>\n",
       "      <th>TotalBags</th>\n",
       "      <th>SmallBags</th>\n",
       "      <th>LargeBags</th>\n",
       "      <th>XLargeBags</th>\n",
       "      <th>type</th>\n",
       "      <th>year</th>\n",
       "      <th>region</th>\n",
       "      <th>avocado: (United States)</th>\n",
       "      <th>organic: (United States)</th>\n",
       "      <th>avocado recipe: (United States)</th>\n",
       "      <th>avocado toast: (United States)</th>\n",
       "      <th>avocado sandwich: (United States)</th>\n",
       "      <th>organic avocado: (United States)</th>\n",
       "    </tr>\n",
       "  </thead>\n",
       "  <tbody>\n",
       "    <tr>\n",
       "      <th>0</th>\n",
       "      <td>1</td>\n",
       "      <td>1.22</td>\n",
       "      <td>40873.28</td>\n",
       "      <td>2819.50</td>\n",
       "      <td>28287.42</td>\n",
       "      <td>49.90</td>\n",
       "      <td>9716.46</td>\n",
       "      <td>9186.93</td>\n",
       "      <td>529.53</td>\n",
       "      <td>0.0</td>\n",
       "      <td>0</td>\n",
       "      <td>2015</td>\n",
       "      <td>0</td>\n",
       "      <td>46</td>\n",
       "      <td>76</td>\n",
       "      <td>84</td>\n",
       "      <td>8</td>\n",
       "      <td>51</td>\n",
       "      <td>10</td>\n",
       "    </tr>\n",
       "    <tr>\n",
       "      <th>1</th>\n",
       "      <td>1</td>\n",
       "      <td>1.00</td>\n",
       "      <td>435021.49</td>\n",
       "      <td>364302.39</td>\n",
       "      <td>23821.16</td>\n",
       "      <td>82.15</td>\n",
       "      <td>46815.79</td>\n",
       "      <td>16707.15</td>\n",
       "      <td>30108.64</td>\n",
       "      <td>0.0</td>\n",
       "      <td>0</td>\n",
       "      <td>2015</td>\n",
       "      <td>1</td>\n",
       "      <td>46</td>\n",
       "      <td>76</td>\n",
       "      <td>84</td>\n",
       "      <td>8</td>\n",
       "      <td>51</td>\n",
       "      <td>10</td>\n",
       "    </tr>\n",
       "    <tr>\n",
       "      <th>3</th>\n",
       "      <td>1</td>\n",
       "      <td>1.01</td>\n",
       "      <td>80034.32</td>\n",
       "      <td>44562.12</td>\n",
       "      <td>24964.23</td>\n",
       "      <td>2752.35</td>\n",
       "      <td>7755.62</td>\n",
       "      <td>6064.30</td>\n",
       "      <td>1691.32</td>\n",
       "      <td>0.0</td>\n",
       "      <td>0</td>\n",
       "      <td>2015</td>\n",
       "      <td>3</td>\n",
       "      <td>46</td>\n",
       "      <td>76</td>\n",
       "      <td>84</td>\n",
       "      <td>8</td>\n",
       "      <td>51</td>\n",
       "      <td>10</td>\n",
       "    </tr>\n",
       "    <tr>\n",
       "      <th>4</th>\n",
       "      <td>1</td>\n",
       "      <td>1.02</td>\n",
       "      <td>491738.00</td>\n",
       "      <td>7193.87</td>\n",
       "      <td>396752.18</td>\n",
       "      <td>128.82</td>\n",
       "      <td>87663.13</td>\n",
       "      <td>87406.84</td>\n",
       "      <td>256.29</td>\n",
       "      <td>0.0</td>\n",
       "      <td>0</td>\n",
       "      <td>2015</td>\n",
       "      <td>4</td>\n",
       "      <td>46</td>\n",
       "      <td>76</td>\n",
       "      <td>84</td>\n",
       "      <td>8</td>\n",
       "      <td>51</td>\n",
       "      <td>10</td>\n",
       "    </tr>\n",
       "    <tr>\n",
       "      <th>5</th>\n",
       "      <td>1</td>\n",
       "      <td>1.40</td>\n",
       "      <td>116253.44</td>\n",
       "      <td>3267.97</td>\n",
       "      <td>55693.04</td>\n",
       "      <td>109.55</td>\n",
       "      <td>57182.88</td>\n",
       "      <td>57182.88</td>\n",
       "      <td>0.00</td>\n",
       "      <td>0.0</td>\n",
       "      <td>0</td>\n",
       "      <td>2015</td>\n",
       "      <td>5</td>\n",
       "      <td>46</td>\n",
       "      <td>76</td>\n",
       "      <td>84</td>\n",
       "      <td>8</td>\n",
       "      <td>51</td>\n",
       "      <td>10</td>\n",
       "    </tr>\n",
       "  </tbody>\n",
       "</table>\n",
       "</div>"
      ],
      "text/plain": [
       "   Week  AveragePrice  TotalVolume       4046       4225     4770  TotalBags  \\\n",
       "0     1          1.22     40873.28    2819.50   28287.42    49.90    9716.46   \n",
       "1     1          1.00    435021.49  364302.39   23821.16    82.15   46815.79   \n",
       "3     1          1.01     80034.32   44562.12   24964.23  2752.35    7755.62   \n",
       "4     1          1.02    491738.00    7193.87  396752.18   128.82   87663.13   \n",
       "5     1          1.40    116253.44    3267.97   55693.04   109.55   57182.88   \n",
       "\n",
       "   SmallBags  LargeBags  XLargeBags  type  year  region  \\\n",
       "0    9186.93     529.53         0.0     0  2015       0   \n",
       "1   16707.15   30108.64         0.0     0  2015       1   \n",
       "3    6064.30    1691.32         0.0     0  2015       3   \n",
       "4   87406.84     256.29         0.0     0  2015       4   \n",
       "5   57182.88       0.00         0.0     0  2015       5   \n",
       "\n",
       "   avocado: (United States)  organic: (United States)  \\\n",
       "0                        46                        76   \n",
       "1                        46                        76   \n",
       "3                        46                        76   \n",
       "4                        46                        76   \n",
       "5                        46                        76   \n",
       "\n",
       "   avocado recipe: (United States)  avocado toast: (United States)  \\\n",
       "0                               84                               8   \n",
       "1                               84                               8   \n",
       "3                               84                               8   \n",
       "4                               84                               8   \n",
       "5                               84                               8   \n",
       "\n",
       "   avocado sandwich: (United States)  organic avocado: (United States)  \n",
       "0                                 51                                10  \n",
       "1                                 51                                10  \n",
       "3                                 51                                10  \n",
       "4                                 51                                10  \n",
       "5                                 51                                10  "
      ]
     },
     "execution_count": 214,
     "metadata": {},
     "output_type": "execute_result"
    }
   ],
   "source": [
    "le = preprocessing.LabelEncoder()\n",
    "df_fill['type'] = le.fit_transform(df_fill['type'])\n",
    "df_fill['region'] = le.fit_transform(df_fill['region'])\n",
    "#df_fill = pd.get_dummies(df_fill,drop_first=True)\n",
    "#df_fill.drop('region', axis=1, inplace=True)\n",
    "df_fill.head()"
   ]
  },
  {
   "cell_type": "markdown",
   "metadata": {},
   "source": [
    "# Total volume prediction\n",
    "\n",
    "1. Analysing features and check for their importance\n",
    "2. Modeling using Lasso for sparse feature selection\n",
    "3. Modeling using Gradientboosting trees"
   ]
  },
  {
   "cell_type": "code",
   "execution_count": 215,
   "metadata": {},
   "outputs": [],
   "source": [
    "# Average price prediction comes after total volume, so this feature is also dropped\n",
    "# Dropping other volumes (linear combination of the total volume)\n",
    "\n",
    "df_tot   = df_fill.copy()\n",
    "df_tot.drop(df_tot.columns[[1,3,4,5,6,7,8,9]],axis=1,inplace=True)"
   ]
  },
  {
   "cell_type": "code",
   "execution_count": 216,
   "metadata": {},
   "outputs": [
    {
     "data": {
      "text/html": [
       "<div>\n",
       "<style scoped>\n",
       "    .dataframe tbody tr th:only-of-type {\n",
       "        vertical-align: middle;\n",
       "    }\n",
       "\n",
       "    .dataframe tbody tr th {\n",
       "        vertical-align: top;\n",
       "    }\n",
       "\n",
       "    .dataframe thead th {\n",
       "        text-align: right;\n",
       "    }\n",
       "</style>\n",
       "<table border=\"1\" class=\"dataframe\">\n",
       "  <thead>\n",
       "    <tr style=\"text-align: right;\">\n",
       "      <th></th>\n",
       "      <th>Week</th>\n",
       "      <th>TotalVolume</th>\n",
       "      <th>type</th>\n",
       "      <th>year</th>\n",
       "      <th>region</th>\n",
       "      <th>avocado: (United States)</th>\n",
       "      <th>organic: (United States)</th>\n",
       "      <th>avocado recipe: (United States)</th>\n",
       "      <th>avocado toast: (United States)</th>\n",
       "      <th>avocado sandwich: (United States)</th>\n",
       "      <th>organic avocado: (United States)</th>\n",
       "    </tr>\n",
       "  </thead>\n",
       "  <tbody>\n",
       "    <tr>\n",
       "      <th>0</th>\n",
       "      <td>1</td>\n",
       "      <td>40873.28</td>\n",
       "      <td>0</td>\n",
       "      <td>2015</td>\n",
       "      <td>0</td>\n",
       "      <td>46</td>\n",
       "      <td>76</td>\n",
       "      <td>84</td>\n",
       "      <td>8</td>\n",
       "      <td>51</td>\n",
       "      <td>10</td>\n",
       "    </tr>\n",
       "    <tr>\n",
       "      <th>1</th>\n",
       "      <td>1</td>\n",
       "      <td>435021.49</td>\n",
       "      <td>0</td>\n",
       "      <td>2015</td>\n",
       "      <td>1</td>\n",
       "      <td>46</td>\n",
       "      <td>76</td>\n",
       "      <td>84</td>\n",
       "      <td>8</td>\n",
       "      <td>51</td>\n",
       "      <td>10</td>\n",
       "    </tr>\n",
       "    <tr>\n",
       "      <th>3</th>\n",
       "      <td>1</td>\n",
       "      <td>80034.32</td>\n",
       "      <td>0</td>\n",
       "      <td>2015</td>\n",
       "      <td>3</td>\n",
       "      <td>46</td>\n",
       "      <td>76</td>\n",
       "      <td>84</td>\n",
       "      <td>8</td>\n",
       "      <td>51</td>\n",
       "      <td>10</td>\n",
       "    </tr>\n",
       "    <tr>\n",
       "      <th>4</th>\n",
       "      <td>1</td>\n",
       "      <td>491738.00</td>\n",
       "      <td>0</td>\n",
       "      <td>2015</td>\n",
       "      <td>4</td>\n",
       "      <td>46</td>\n",
       "      <td>76</td>\n",
       "      <td>84</td>\n",
       "      <td>8</td>\n",
       "      <td>51</td>\n",
       "      <td>10</td>\n",
       "    </tr>\n",
       "    <tr>\n",
       "      <th>5</th>\n",
       "      <td>1</td>\n",
       "      <td>116253.44</td>\n",
       "      <td>0</td>\n",
       "      <td>2015</td>\n",
       "      <td>5</td>\n",
       "      <td>46</td>\n",
       "      <td>76</td>\n",
       "      <td>84</td>\n",
       "      <td>8</td>\n",
       "      <td>51</td>\n",
       "      <td>10</td>\n",
       "    </tr>\n",
       "  </tbody>\n",
       "</table>\n",
       "</div>"
      ],
      "text/plain": [
       "   Week  TotalVolume  type  year  region  avocado: (United States)  \\\n",
       "0     1     40873.28     0  2015       0                        46   \n",
       "1     1    435021.49     0  2015       1                        46   \n",
       "3     1     80034.32     0  2015       3                        46   \n",
       "4     1    491738.00     0  2015       4                        46   \n",
       "5     1    116253.44     0  2015       5                        46   \n",
       "\n",
       "   organic: (United States)  avocado recipe: (United States)  \\\n",
       "0                        76                               84   \n",
       "1                        76                               84   \n",
       "3                        76                               84   \n",
       "4                        76                               84   \n",
       "5                        76                               84   \n",
       "\n",
       "   avocado toast: (United States)  avocado sandwich: (United States)  \\\n",
       "0                               8                                 51   \n",
       "1                               8                                 51   \n",
       "3                               8                                 51   \n",
       "4                               8                                 51   \n",
       "5                               8                                 51   \n",
       "\n",
       "   organic avocado: (United States)  \n",
       "0                                10  \n",
       "1                                10  \n",
       "3                                10  \n",
       "4                                10  \n",
       "5                                10  "
      ]
     },
     "execution_count": 216,
     "metadata": {},
     "output_type": "execute_result"
    }
   ],
   "source": [
    "df_tot.head()"
   ]
  },
  {
   "cell_type": "code",
   "execution_count": 217,
   "metadata": {},
   "outputs": [],
   "source": [
    "# 2019 data as the test data\n",
    "\n",
    "df_avg   = df_fill.copy()\n",
    "\n",
    "# creating data for training\n",
    "df_train = df_tot[df_tot['year']!=2019]\n",
    "df_test  = df_tot[df_tot['year']==2019]\n",
    "\n",
    "X_train = df_train.iloc[:,[0]+[int(x) for x in range(2,len(df_train.iloc[0,:]))]] \n",
    "y_train = df_train.iloc[:,1]\n",
    "\n",
    "X_test = df_test.iloc[:,[0]+[int(x) for x in range(2,len(df_test.iloc[0,:]))]] \n",
    "y_test = df_test.iloc[:,1]"
   ]
  },
  {
   "cell_type": "code",
   "execution_count": 218,
   "metadata": {},
   "outputs": [
    {
     "data": {
      "text/plain": [
       "array([2015, 2016, 2017, 2018], dtype=int64)"
      ]
     },
     "execution_count": 218,
     "metadata": {},
     "output_type": "execute_result"
    }
   ],
   "source": [
    "X_train['year'].unique()"
   ]
  },
  {
   "cell_type": "markdown",
   "metadata": {},
   "source": [
    "## Check for feature importance using ExtraTreesRegressor"
   ]
  },
  {
   "cell_type": "code",
   "execution_count": 219,
   "metadata": {},
   "outputs": [],
   "source": [
    "ex_model = ExtraTreesRegressor()"
   ]
  },
  {
   "cell_type": "code",
   "execution_count": 220,
   "metadata": {},
   "outputs": [
    {
     "name": "stderr",
     "output_type": "stream",
     "text": [
      "C:\\Users\\thomas\\Anaconda33\\lib\\site-packages\\sklearn\\ensemble\\forest.py:246: FutureWarning: The default value of n_estimators will change from 10 in version 0.20 to 100 in 0.22.\n",
      "  \"10 in version 0.20 to 100 in 0.22.\", FutureWarning)\n"
     ]
    },
    {
     "data": {
      "text/plain": [
       "ExtraTreesRegressor(bootstrap=False, criterion='mse', max_depth=None,\n",
       "          max_features='auto', max_leaf_nodes=None,\n",
       "          min_impurity_decrease=0.0, min_impurity_split=None,\n",
       "          min_samples_leaf=1, min_samples_split=2,\n",
       "          min_weight_fraction_leaf=0.0, n_estimators=10, n_jobs=None,\n",
       "          oob_score=False, random_state=None, verbose=0, warm_start=False)"
      ]
     },
     "execution_count": 220,
     "metadata": {},
     "output_type": "execute_result"
    }
   ],
   "source": [
    "ex_model.fit(X_train,y_train)"
   ]
  },
  {
   "cell_type": "code",
   "execution_count": 221,
   "metadata": {},
   "outputs": [
    {
     "data": {
      "image/png": "[encoded data removed]",
      "text/plain": [
       "<Figure size 432x288 with 1 Axes>"
      ]
     },
     "metadata": {
      "needs_background": "light"
     },
     "output_type": "display_data"
    }
   ],
   "source": [
    "feature_imp = pd.Series(ex_model.feature_importances_,index=X_train.columns)\n",
    "feature_imp.plot(kind='barh')\n",
    "plt.show()"
   ]
  },
  {
   "cell_type": "code",
   "execution_count": 222,
   "metadata": {},
   "outputs": [
    {
     "data": {
      "text/plain": [
       "<matplotlib.axes._subplots.AxesSubplot at 0x1cf31a27898>"
      ]
     },
     "execution_count": 222,
     "metadata": {},
     "output_type": "execute_result"
    },
    {
     "data": {
      "image/png": "[encoded data removed]",
      "text/plain": [
       "<Figure size 720x360 with 2 Axes>"
      ]
     },
     "metadata": {
      "needs_background": "light"
     },
     "output_type": "display_data"
    }
   ],
   "source": [
    "figure, axes = plt.subplots(1, 2)\n",
    "df_train[df_train['type']==1].plot(x='region', y='TotalVolume', style='o',ax=axes[0],figsize=(10,5),title='Total volume vs type 1')\n",
    "df_train[df_train['type']==0].plot(x='region', y='TotalVolume', style='o',ax=axes[1],figsize=(10,5),title='Total volume vs type 0')"
   ]
  },
  {
   "cell_type": "code",
   "execution_count": 223,
   "metadata": {},
   "outputs": [
    {
     "data": {
      "text/plain": [
       "<matplotlib.axes._subplots.AxesSubplot at 0x1cf4ae9e278>"
      ]
     },
     "execution_count": 223,
     "metadata": {},
     "output_type": "execute_result"
    },
    {
     "data": {
      "image/png": "[encoded data removed]",
      "text/plain": [
       "<Figure size 720x360 with 3 Axes>"
      ]
     },
     "metadata": {
      "needs_background": "light"
     },
     "output_type": "display_data"
    }
   ],
   "source": [
    "figure, axes = plt.subplots(1, 3)\n",
    "df_train[df_train['region']==50].plot(x='TotalVolume', y='type', style='o',ax=axes[0],figsize=(10,5),title='Total volume')\n",
    "df_train[df_train['region']==45].plot(x='TotalVolume', y='type', style='o',ax=axes[1],figsize=(10,5),title='Total volume')\n",
    "df_train[df_train['region']==35].plot(x='TotalVolume', y='type', style='o',ax=axes[2],figsize=(10,5),title='Total volume')"
   ]
  },
  {
   "cell_type": "code",
   "execution_count": 224,
   "metadata": {},
   "outputs": [
    {
     "data": {
      "text/plain": [
       "<matplotlib.axes._subplots.AxesSubplot at 0x1cf4d541668>"
      ]
     },
     "execution_count": 224,
     "metadata": {},
     "output_type": "execute_result"
    },
    {
     "data": {
      "image/png": "[encoded data removed]",
      "text/plain": [
       "<Figure size 720x720 with 3 Axes>"
      ]
     },
     "metadata": {
      "needs_background": "light"
     },
     "output_type": "display_data"
    }
   ],
   "source": [
    "figure, axes = plt.subplots(3, 1)\n",
    "df_train[df_train['region']==50].plot(x='avocado: (United States)', y='TotalVolume',logy=True, style='o',ax=axes[0],figsize=(10,10))\n",
    "df_train[df_train['region']==45].plot(x='avocado: (United States)', y='TotalVolume',logy=True, style='o',ax=axes[1],figsize=(10,10))\n",
    "df_train[df_train['region']==35].plot(x='avocado: (United States)', y='TotalVolume',logy=True, style='o',ax=axes[2],figsize=(10,10))"
   ]
  },
  {
   "cell_type": "markdown",
   "metadata": {},
   "source": [
    "## Predicting the Total Volume with LASSO"
   ]
  },
  {
   "cell_type": "code",
   "execution_count": 231,
   "metadata": {},
   "outputs": [
    {
     "name": "stderr",
     "output_type": "stream",
     "text": [
      "C:\\Users\\thomas\\Anaconda33\\lib\\site-packages\\sklearn\\preprocessing\\data.py:323: DataConversionWarning: Data with input dtype int32, int64 were all converted to float64 by MinMaxScaler.\n",
      "  return self.partial_fit(X, y)\n"
     ]
    }
   ],
   "source": [
    "scaler  = MinMaxScaler()\n",
    "X_train_s = scaler.fit_transform(X_train)\n",
    "\n",
    "model = Lasso(random_state=42, max_iter=10000)\n",
    "\n",
    "\n",
    "alphas = np.logspace(-4, -0.5, 30)\n",
    "\n",
    "tuned_parameters = [{'alpha': alphas}]\n",
    "n_folds = 5"
   ]
  },
  {
   "cell_type": "code",
   "execution_count": 232,
   "metadata": {},
   "outputs": [
    {
     "data": {
      "text/plain": [
       "(0.0001, 0.31622776601683794)"
      ]
     },
     "execution_count": 232,
     "metadata": {},
     "output_type": "execute_result"
    },
    {
     "data": {
      "image/png": "[encoded data removed]",
      "text/plain": [
       "<Figure size 360x360 with 1 Axes>"
      ]
     },
     "metadata": {
      "needs_background": "light"
     },
     "output_type": "display_data"
    }
   ],
   "source": [
    "random_grid = GridSearchCV(model, tuned_parameters, cv=n_folds, refit=False)\n",
    "random_grid.fit(X_train_s, y_train)\n",
    "scores = random_grid.cv_results_['mean_test_score']\n",
    "scores_std = random_grid.cv_results_['std_test_score']\n",
    "plt.figure(figsize=(5,5))\n",
    "plt.semilogx(alphas, scores)\n",
    "\n",
    "# plot error lines showing +/- std. errors of the scores\n",
    "std_error = scores_std / np.sqrt(n_folds)\n",
    "\n",
    "plt.semilogx(alphas, scores + std_error, 'g--')\n",
    "plt.semilogx(alphas, scores - std_error, 'g--')\n",
    "\n",
    "plt.fill_between(alphas, scores + std_error, scores - std_error, alpha=0.2) # alpha controls the fill color\n",
    "\n",
    "plt.ylabel('CV score +/- std error')\n",
    "plt.xlabel('alpha')\n",
    "plt.axhline(np.max(scores), linestyle='--', color='.5')\n",
    "plt.xlim([alphas[0], alphas[-1]])"
   ]
  },
  {
   "cell_type": "code",
   "execution_count": 233,
   "metadata": {},
   "outputs": [
    {
     "data": {
      "text/plain": [
       "Lasso(alpha=1.0, copy_X=True, fit_intercept=True, max_iter=10000,\n",
       "   normalize=False, positive=False, precompute=False, random_state=42,\n",
       "   selection='cyclic', tol=0.0001, warm_start=False)"
      ]
     },
     "execution_count": 233,
     "metadata": {},
     "output_type": "execute_result"
    }
   ],
   "source": [
    "model.fit(X_train_s,y_train)"
   ]
  },
  {
   "cell_type": "code",
   "execution_count": 238,
   "metadata": {},
   "outputs": [
    {
     "name": "stderr",
     "output_type": "stream",
     "text": [
      "C:\\Users\\thomas\\Anaconda33\\lib\\site-packages\\sklearn\\preprocessing\\data.py:323: DataConversionWarning: Data with input dtype int32, int64 were all converted to float64 by MinMaxScaler.\n",
      "  return self.partial_fit(X, y)\n"
     ]
    }
   ],
   "source": [
    "X_test_s = scaler.fit_transform(X_test)\n",
    "pred = model.predict(X_test_s)"
   ]
  },
  {
   "cell_type": "code",
   "execution_count": 239,
   "metadata": {},
   "outputs": [
    {
     "data": {
      "text/plain": [
       "<matplotlib.axes._subplots.AxesSubplot at 0x1cf433591d0>"
      ]
     },
     "execution_count": 239,
     "metadata": {},
     "output_type": "execute_result"
    },
    {
     "data": {
      "image/png": "[encoded data removed]",
      "text/plain": [
       "<Figure size 432x288 with 1 Axes>"
      ]
     },
     "metadata": {
      "needs_background": "light"
     },
     "output_type": "display_data"
    }
   ],
   "source": [
    "sns.distplot(y_test - pred,bins=50)"
   ]
  },
  {
   "cell_type": "code",
   "execution_count": 240,
   "metadata": {},
   "outputs": [
    {
     "data": {
      "text/plain": [
       "<matplotlib.collections.PathCollection at 0x1cf49271d30>"
      ]
     },
     "execution_count": 240,
     "metadata": {},
     "output_type": "execute_result"
    },
    {
     "data": {
      "image/png": "[encoded data removed]",
      "text/plain": [
       "<Figure size 432x288 with 1 Axes>"
      ]
     },
     "metadata": {
      "needs_background": "light"
     },
     "output_type": "display_data"
    }
   ],
   "source": [
    "plt.scatter(y_test,pred)"
   ]
  },
  {
   "cell_type": "code",
   "execution_count": 242,
   "metadata": {},
   "outputs": [
    {
     "data": {
      "text/plain": [
       "0.06585181443391674"
      ]
     },
     "execution_count": 242,
     "metadata": {},
     "output_type": "execute_result"
    }
   ],
   "source": [
    "r2_score(y_test,pred)"
   ]
  },
  {
   "cell_type": "markdown",
   "metadata": {},
   "source": [
    "The relationship between the features and the data is more complex than what a linear relation from Lasso or ridge regression can model. \n",
    "\n",
    "Lets try a tree based method instead."
   ]
  },
  {
   "cell_type": "markdown",
   "metadata": {},
   "source": [
    "## Predicting the Total Volume with Gradientboosting"
   ]
  },
  {
   "cell_type": "code",
   "execution_count": 243,
   "metadata": {},
   "outputs": [
    {
     "name": "stdout",
     "output_type": "stream",
     "text": [
      "{'n_estimators': [10, 20, 30, 40, 50], 'max_features': ['sqrt', 'log2'], 'max_depth': [5, 8, 12, 16, 20], 'min_samples_split': [4, 5, 7, 8, 9], 'min_samples_leaf': [2, 3, 5, 8, 8]}\n"
     ]
    }
   ],
   "source": [
    "n_estimators = [int(x) for x in np.linspace(start=10,stop=50,num=5)] # The number of trees in the forest\n",
    "max_features = ['sqrt','log2'] # The number of features to consider when looking for the best split\n",
    "max_depth    = [int(x) for x in np.linspace(start=5,stop=20,num=5)]\n",
    "min_smp_splt = sorted(np.random.randint(2,10,5))\n",
    "min_smp_leaf = sorted(np.random.randint(2,10,5))\n",
    "\n",
    "random_grid  = {'n_estimators':n_estimators,\n",
    "                'max_features':max_features,\n",
    "                'max_depth':max_depth,\n",
    "                'min_samples_split':min_smp_splt,\n",
    "                'min_samples_leaf':min_smp_leaf\n",
    "}\n",
    "\n",
    "print(random_grid)"
   ]
  },
  {
   "cell_type": "code",
   "execution_count": 244,
   "metadata": {},
   "outputs": [],
   "source": [
    "model = GradientBoostingRegressor(learning_rate=0.1)\n",
    "model_random = RandomizedSearchCV(estimator=model,\n",
    "                                  param_distributions=random_grid,\n",
    "                                  scoring='neg_mean_squared_error',\n",
    "                                  n_iter=25,\n",
    "                                  n_jobs=-1,\n",
    "                                  cv=5,\n",
    "                                  verbose=2,\n",
    "                                  random_state=42,\n",
    "                                  return_train_score = True\n",
    ")"
   ]
  },
  {
   "cell_type": "code",
   "execution_count": 245,
   "metadata": {},
   "outputs": [
    {
     "name": "stdout",
     "output_type": "stream",
     "text": [
      "Fitting 5 folds for each of 25 candidates, totalling 125 fits\n"
     ]
    },
    {
     "name": "stderr",
     "output_type": "stream",
     "text": [
      "[Parallel(n_jobs=-1)]: Using backend LokyBackend with 4 concurrent workers.\n",
      "[Parallel(n_jobs=-1)]: Done  33 tasks      | elapsed:    5.1s\n",
      "[Parallel(n_jobs=-1)]: Done 125 out of 125 | elapsed:   26.2s finished\n"
     ]
    },
    {
     "data": {
      "text/plain": [
       "RandomizedSearchCV(cv=5, error_score='raise-deprecating',\n",
       "          estimator=GradientBoostingRegressor(alpha=0.9, criterion='friedman_mse', init=None,\n",
       "             learning_rate=0.1, loss='ls', max_depth=3, max_features=None,\n",
       "             max_leaf_nodes=None, min_impurity_decrease=0.0,\n",
       "             min_impurity_split=None, min_samples_leaf=1,\n",
       "             min_sampl...=None, subsample=1.0, tol=0.0001,\n",
       "             validation_fraction=0.1, verbose=0, warm_start=False),\n",
       "          fit_params=None, iid='warn', n_iter=25, n_jobs=-1,\n",
       "          param_distributions={'n_estimators': [10, 20, 30, 40, 50], 'max_features': ['sqrt', 'log2'], 'max_depth': [5, 8, 12, 16, 20], 'min_samples_split': [4, 5, 7, 8, 9], 'min_samples_leaf': [2, 3, 5, 8, 8]},\n",
       "          pre_dispatch='2*n_jobs', random_state=42, refit=True,\n",
       "          return_train_score=True, scoring='neg_mean_squared_error',\n",
       "          verbose=2)"
      ]
     },
     "execution_count": 245,
     "metadata": {},
     "output_type": "execute_result"
    }
   ],
   "source": [
    "model_random.fit(X_train,y_train)"
   ]
  },
  {
   "cell_type": "code",
   "execution_count": 246,
   "metadata": {},
   "outputs": [],
   "source": [
    "pred = model_random.predict(X_test)"
   ]
  },
  {
   "cell_type": "code",
   "execution_count": 247,
   "metadata": {},
   "outputs": [
    {
     "data": {
      "text/plain": [
       "<matplotlib.axes._subplots.AxesSubplot at 0x1cf3dc15400>"
      ]
     },
     "execution_count": 247,
     "metadata": {},
     "output_type": "execute_result"
    },
    {
     "data": {
      "image/png": "[encoded data removed]",
      "text/plain": [
       "<Figure size 432x288 with 1 Axes>"
      ]
     },
     "metadata": {
      "needs_background": "light"
     },
     "output_type": "display_data"
    }
   ],
   "source": [
    "sns.distplot(y_test - pred)"
   ]
  },
  {
   "cell_type": "code",
   "execution_count": 248,
   "metadata": {},
   "outputs": [
    {
     "data": {
      "text/plain": [
       "<matplotlib.collections.PathCollection at 0x1cf31b75588>"
      ]
     },
     "execution_count": 248,
     "metadata": {},
     "output_type": "execute_result"
    },
    {
     "data": {
      "image/png": "[encoded data removed]",
      "text/plain": [
       "<Figure size 432x288 with 1 Axes>"
      ]
     },
     "metadata": {
      "needs_background": "light"
     },
     "output_type": "display_data"
    }
   ],
   "source": [
    "plt.scatter(y_test,pred)"
   ]
  },
  {
   "cell_type": "code",
   "execution_count": 249,
   "metadata": {},
   "outputs": [
    {
     "data": {
      "text/plain": [
       "0.9496342645167817"
      ]
     },
     "execution_count": 249,
     "metadata": {},
     "output_type": "execute_result"
    }
   ],
   "source": [
    "r2_score(y_test,pred)"
   ]
  },
  {
   "cell_type": "markdown",
   "metadata": {},
   "source": [
    "# Average price prediction."
   ]
  },
  {
   "cell_type": "code",
   "execution_count": 300,
   "metadata": {},
   "outputs": [],
   "source": [
    "df_avg   = df_fill.copy()\n",
    "\n",
    "# drop year column (this is because I have not done a real forecast- should be done to improve the analysis and model) \n",
    "df_avg.drop(df_avg.columns[[11]],axis=1,inplace=True)\n",
    "\n",
    "X = df_avg.iloc[:,[0]+[int(x) for x in range(2,len(df_avg.iloc[0,:]))]] \n",
    "y = df_avg.iloc[:,1]\n",
    "\n",
    "# in this case \n",
    "X_train, X_test, y_train, y_test = train_test_split(X, y, test_size=0.33, random_state=42)"
   ]
  },
  {
   "cell_type": "code",
   "execution_count": 301,
   "metadata": {},
   "outputs": [
    {
     "data": {
      "text/html": [
       "<div>\n",
       "<style scoped>\n",
       "    .dataframe tbody tr th:only-of-type {\n",
       "        vertical-align: middle;\n",
       "    }\n",
       "\n",
       "    .dataframe tbody tr th {\n",
       "        vertical-align: top;\n",
       "    }\n",
       "\n",
       "    .dataframe thead th {\n",
       "        text-align: right;\n",
       "    }\n",
       "</style>\n",
       "<table border=\"1\" class=\"dataframe\">\n",
       "  <thead>\n",
       "    <tr style=\"text-align: right;\">\n",
       "      <th></th>\n",
       "      <th>Week</th>\n",
       "      <th>TotalVolume</th>\n",
       "      <th>4046</th>\n",
       "      <th>4225</th>\n",
       "      <th>4770</th>\n",
       "      <th>TotalBags</th>\n",
       "      <th>SmallBags</th>\n",
       "      <th>LargeBags</th>\n",
       "      <th>XLargeBags</th>\n",
       "      <th>type</th>\n",
       "      <th>region</th>\n",
       "      <th>avocado: (United States)</th>\n",
       "      <th>organic: (United States)</th>\n",
       "      <th>avocado recipe: (United States)</th>\n",
       "      <th>avocado toast: (United States)</th>\n",
       "      <th>avocado sandwich: (United States)</th>\n",
       "      <th>organic avocado: (United States)</th>\n",
       "    </tr>\n",
       "  </thead>\n",
       "  <tbody>\n",
       "    <tr>\n",
       "      <th>1190</th>\n",
       "      <td>12</td>\n",
       "      <td>808897.21</td>\n",
       "      <td>65158.96</td>\n",
       "      <td>524971.24</td>\n",
       "      <td>42381.39</td>\n",
       "      <td>176385.62</td>\n",
       "      <td>171699.95</td>\n",
       "      <td>4685.67</td>\n",
       "      <td>0.00</td>\n",
       "      <td>0</td>\n",
       "      <td>2</td>\n",
       "      <td>45</td>\n",
       "      <td>83</td>\n",
       "      <td>68</td>\n",
       "      <td>10</td>\n",
       "      <td>60</td>\n",
       "      <td>40</td>\n",
       "    </tr>\n",
       "    <tr>\n",
       "      <th>19460</th>\n",
       "      <td>22</td>\n",
       "      <td>3433759.97</td>\n",
       "      <td>1258719.38</td>\n",
       "      <td>441223.66</td>\n",
       "      <td>81658.52</td>\n",
       "      <td>1652158.41</td>\n",
       "      <td>1522359.55</td>\n",
       "      <td>59636.85</td>\n",
       "      <td>70162.01</td>\n",
       "      <td>0</td>\n",
       "      <td>22</td>\n",
       "      <td>66</td>\n",
       "      <td>83</td>\n",
       "      <td>92</td>\n",
       "      <td>49</td>\n",
       "      <td>69</td>\n",
       "      <td>50</td>\n",
       "    </tr>\n",
       "    <tr>\n",
       "      <th>3173</th>\n",
       "      <td>30</td>\n",
       "      <td>495344.27</td>\n",
       "      <td>279280.58</td>\n",
       "      <td>161574.35</td>\n",
       "      <td>16605.49</td>\n",
       "      <td>37883.85</td>\n",
       "      <td>36718.01</td>\n",
       "      <td>1165.84</td>\n",
       "      <td>0.00</td>\n",
       "      <td>0</td>\n",
       "      <td>41</td>\n",
       "      <td>45</td>\n",
       "      <td>72</td>\n",
       "      <td>78</td>\n",
       "      <td>9</td>\n",
       "      <td>48</td>\n",
       "      <td>21</td>\n",
       "    </tr>\n",
       "    <tr>\n",
       "      <th>23315</th>\n",
       "      <td>9</td>\n",
       "      <td>30318.84</td>\n",
       "      <td>121.35</td>\n",
       "      <td>4726.76</td>\n",
       "      <td>32.57</td>\n",
       "      <td>25438.16</td>\n",
       "      <td>24213.77</td>\n",
       "      <td>1224.39</td>\n",
       "      <td>0.00</td>\n",
       "      <td>1</td>\n",
       "      <td>44</td>\n",
       "      <td>64</td>\n",
       "      <td>85</td>\n",
       "      <td>72</td>\n",
       "      <td>62</td>\n",
       "      <td>55</td>\n",
       "      <td>62</td>\n",
       "    </tr>\n",
       "    <tr>\n",
       "      <th>18102</th>\n",
       "      <td>9</td>\n",
       "      <td>222950.32</td>\n",
       "      <td>6008.33</td>\n",
       "      <td>68134.36</td>\n",
       "      <td>0.00</td>\n",
       "      <td>147949.04</td>\n",
       "      <td>119193.36</td>\n",
       "      <td>28755.68</td>\n",
       "      <td>0.00</td>\n",
       "      <td>1</td>\n",
       "      <td>15</td>\n",
       "      <td>64</td>\n",
       "      <td>85</td>\n",
       "      <td>68</td>\n",
       "      <td>51</td>\n",
       "      <td>66</td>\n",
       "      <td>52</td>\n",
       "    </tr>\n",
       "  </tbody>\n",
       "</table>\n",
       "</div>"
      ],
      "text/plain": [
       "       Week  TotalVolume        4046       4225      4770   TotalBags  \\\n",
       "1190     12    808897.21    65158.96  524971.24  42381.39   176385.62   \n",
       "19460    22   3433759.97  1258719.38  441223.66  81658.52  1652158.41   \n",
       "3173     30    495344.27   279280.58  161574.35  16605.49    37883.85   \n",
       "23315     9     30318.84      121.35    4726.76     32.57    25438.16   \n",
       "18102     9    222950.32     6008.33   68134.36      0.00   147949.04   \n",
       "\n",
       "        SmallBags  LargeBags  XLargeBags  type  region  \\\n",
       "1190    171699.95    4685.67        0.00     0       2   \n",
       "19460  1522359.55   59636.85    70162.01     0      22   \n",
       "3173     36718.01    1165.84        0.00     0      41   \n",
       "23315    24213.77    1224.39        0.00     1      44   \n",
       "18102   119193.36   28755.68        0.00     1      15   \n",
       "\n",
       "       avocado: (United States)  organic: (United States)  \\\n",
       "1190                         45                        83   \n",
       "19460                        66                        83   \n",
       "3173                         45                        72   \n",
       "23315                        64                        85   \n",
       "18102                        64                        85   \n",
       "\n",
       "       avocado recipe: (United States)  avocado toast: (United States)  \\\n",
       "1190                                68                              10   \n",
       "19460                               92                              49   \n",
       "3173                                78                               9   \n",
       "23315                               72                              62   \n",
       "18102                               68                              51   \n",
       "\n",
       "       avocado sandwich: (United States)  organic avocado: (United States)  \n",
       "1190                                  60                                40  \n",
       "19460                                 69                                50  \n",
       "3173                                  48                                21  \n",
       "23315                                 55                                62  \n",
       "18102                                 66                                52  "
      ]
     },
     "execution_count": 301,
     "metadata": {},
     "output_type": "execute_result"
    }
   ],
   "source": [
    "X_train.head()"
   ]
  },
  {
   "cell_type": "code",
   "execution_count": 302,
   "metadata": {},
   "outputs": [],
   "source": [
    "ex_model = ExtraTreesRegressor()"
   ]
  },
  {
   "cell_type": "code",
   "execution_count": 303,
   "metadata": {},
   "outputs": [
    {
     "name": "stderr",
     "output_type": "stream",
     "text": [
      "C:\\Users\\thomas\\Anaconda33\\lib\\site-packages\\sklearn\\ensemble\\forest.py:246: FutureWarning: The default value of n_estimators will change from 10 in version 0.20 to 100 in 0.22.\n",
      "  \"10 in version 0.20 to 100 in 0.22.\", FutureWarning)\n"
     ]
    },
    {
     "data": {
      "text/plain": [
       "ExtraTreesRegressor(bootstrap=False, criterion='mse', max_depth=None,\n",
       "          max_features='auto', max_leaf_nodes=None,\n",
       "          min_impurity_decrease=0.0, min_impurity_split=None,\n",
       "          min_samples_leaf=1, min_samples_split=2,\n",
       "          min_weight_fraction_leaf=0.0, n_estimators=10, n_jobs=None,\n",
       "          oob_score=False, random_state=None, verbose=0, warm_start=False)"
      ]
     },
     "execution_count": 303,
     "metadata": {},
     "output_type": "execute_result"
    }
   ],
   "source": [
    "ex_model.fit(X_train,y_train)"
   ]
  },
  {
   "cell_type": "code",
   "execution_count": 304,
   "metadata": {},
   "outputs": [
    {
     "data": {
      "image/png": "[encoded data removed]",
      "text/plain": [
       "<Figure size 432x288 with 1 Axes>"
      ]
     },
     "metadata": {
      "needs_background": "light"
     },
     "output_type": "display_data"
    }
   ],
   "source": [
    "feature_imp = pd.Series(ex_model.feature_importances_,index=X_train.columns)\n",
    "feature_imp.plot(kind='barh')\n",
    "plt.show()"
   ]
  },
  {
   "cell_type": "code",
   "execution_count": 262,
   "metadata": {},
   "outputs": [
    {
     "name": "stdout",
     "output_type": "stream",
     "text": [
      "{'n_estimators': [10, 20, 30, 40, 50], 'max_features': ['auto', 'sqrt', 'log2'], 'max_depth': [5, 8, 12, 16, 20], 'min_samples_split': [2, 3, 6, 6, 8], 'min_samples_leaf': [3, 5, 6, 7, 9]}\n"
     ]
    }
   ],
   "source": [
    "n_estimators = [int(x) for x in np.linspace(start=10,stop=50,num=5)] # The number of trees in the forest\n",
    "max_features = ['auto','sqrt','log2'] # The number of features to consider when looking for the best split: More features seems to have importance here\n",
    "max_depth    = [int(x) for x in np.linspace(start=5,stop=20,num=5)]\n",
    "min_smp_splt = sorted(np.random.randint(2,10,5))\n",
    "min_smp_leaf = sorted(np.random.randint(2,10,5))\n",
    "\n",
    "random_grid  = {'n_estimators':n_estimators,\n",
    "                'max_features':max_features,\n",
    "                'max_depth':max_depth,\n",
    "                'min_samples_split':min_smp_splt,\n",
    "                'min_samples_leaf':min_smp_leaf\n",
    "}\n",
    "\n",
    "print(random_grid)"
   ]
  },
  {
   "cell_type": "code",
   "execution_count": 263,
   "metadata": {},
   "outputs": [],
   "source": [
    "model = GradientBoostingRegressor(learning_rate=0.1)\n",
    "model_random = RandomizedSearchCV(estimator=model,\n",
    "                                  param_distributions=random_grid,\n",
    "                                  scoring='neg_mean_squared_error',\n",
    "                                  n_iter=25,\n",
    "                                  n_jobs=-1,\n",
    "                                  cv=5,\n",
    "                                  verbose=2,\n",
    "                                  random_state=42,\n",
    "                                  return_train_score = True\n",
    ")"
   ]
  },
  {
   "cell_type": "code",
   "execution_count": 264,
   "metadata": {
    "scrolled": true
   },
   "outputs": [
    {
     "name": "stdout",
     "output_type": "stream",
     "text": [
      "Fitting 5 folds for each of 25 candidates, totalling 125 fits\n"
     ]
    },
    {
     "name": "stderr",
     "output_type": "stream",
     "text": [
      "[Parallel(n_jobs=-1)]: Using backend LokyBackend with 4 concurrent workers.\n",
      "[Parallel(n_jobs=-1)]: Done  33 tasks      | elapsed:    7.8s\n",
      "[Parallel(n_jobs=-1)]: Done 125 out of 125 | elapsed:   40.4s finished\n"
     ]
    },
    {
     "data": {
      "text/plain": [
       "RandomizedSearchCV(cv=5, error_score='raise-deprecating',\n",
       "          estimator=GradientBoostingRegressor(alpha=0.9, criterion='friedman_mse', init=None,\n",
       "             learning_rate=0.1, loss='ls', max_depth=3, max_features=None,\n",
       "             max_leaf_nodes=None, min_impurity_decrease=0.0,\n",
       "             min_impurity_split=None, min_samples_leaf=1,\n",
       "             min_sampl...=None, subsample=1.0, tol=0.0001,\n",
       "             validation_fraction=0.1, verbose=0, warm_start=False),\n",
       "          fit_params=None, iid='warn', n_iter=25, n_jobs=-1,\n",
       "          param_distributions={'n_estimators': [10, 20, 30, 40, 50], 'max_features': ['auto', 'sqrt', 'log2'], 'max_depth': [5, 8, 12, 16, 20], 'min_samples_split': [2, 3, 6, 6, 8], 'min_samples_leaf': [3, 5, 6, 7, 9]},\n",
       "          pre_dispatch='2*n_jobs', random_state=42, refit=True,\n",
       "          return_train_score=True, scoring='neg_mean_squared_error',\n",
       "          verbose=2)"
      ]
     },
     "execution_count": 264,
     "metadata": {},
     "output_type": "execute_result"
    }
   ],
   "source": [
    "model_random.fit(X_train,y_train)"
   ]
  },
  {
   "cell_type": "code",
   "execution_count": 265,
   "metadata": {},
   "outputs": [],
   "source": [
    "pred = model_random.predict(X_test)"
   ]
  },
  {
   "cell_type": "code",
   "execution_count": 266,
   "metadata": {},
   "outputs": [
    {
     "data": {
      "text/plain": [
       "<matplotlib.axes._subplots.AxesSubplot at 0x1cf4ad80f98>"
      ]
     },
     "execution_count": 266,
     "metadata": {},
     "output_type": "execute_result"
    },
    {
     "data": {
      "image/png": "[encoded data removed]",
      "text/plain": [
       "<Figure size 432x288 with 1 Axes>"
      ]
     },
     "metadata": {
      "needs_background": "light"
     },
     "output_type": "display_data"
    }
   ],
   "source": [
    "sns.distplot(y_test - pred)"
   ]
  },
  {
   "cell_type": "code",
   "execution_count": 267,
   "metadata": {},
   "outputs": [
    {
     "data": {
      "text/plain": [
       "<matplotlib.collections.PathCollection at 0x1cf4dd18208>"
      ]
     },
     "execution_count": 267,
     "metadata": {},
     "output_type": "execute_result"
    },
    {
     "data": {
      "image/png": "[encoded data removed]",
      "text/plain": [
       "<Figure size 432x288 with 1 Axes>"
      ]
     },
     "metadata": {
      "needs_background": "light"
     },
     "output_type": "display_data"
    }
   ],
   "source": [
    "plt.scatter(y_test,pred)"
   ]
  },
  {
   "cell_type": "code",
   "execution_count": 268,
   "metadata": {},
   "outputs": [
    {
     "data": {
      "text/plain": [
       "0.8645417750658624"
      ]
     },
     "execution_count": 268,
     "metadata": {},
     "output_type": "execute_result"
    }
   ],
   "source": [
    "r2_score(y_test,pred)"
   ]
  },
  {
   "cell_type": "markdown",
   "metadata": {},
   "source": [
    "## Lets try without the google search data, since this data is biased in my model."
   ]
  },
  {
   "cell_type": "code",
   "execution_count": 273,
   "metadata": {},
   "outputs": [],
   "source": [
    "df_avg   = df_fill.copy()\n",
    "# drop year column (this is because I have not done a real forecast- should be done to improve the analysis and model) \n",
    "df_avg.drop(df_avg.columns[[11,13,14,15,16,17,18]],axis=1,inplace=True)\n",
    "\n",
    "X = df_avg.iloc[:,[0]+[int(x) for x in range(2,len(df_avg.iloc[0,:]))]] \n",
    "y = df_avg.iloc[:,1]\n",
    "\n",
    "# in this case \n",
    "X_train, X_test, y_train, y_test = train_test_split(X, y, test_size=0.33, random_state=42)"
   ]
  },
  {
   "cell_type": "code",
   "execution_count": 274,
   "metadata": {},
   "outputs": [
    {
     "name": "stdout",
     "output_type": "stream",
     "text": [
      "{'n_estimators': [10, 20, 30, 40, 50], 'max_features': ['auto', 'sqrt', 'log2'], 'max_depth': [5, 8, 12, 16, 20], 'min_samples_split': [5, 6, 7, 7, 9], 'min_samples_leaf': [2, 5, 7, 8, 9]}\n"
     ]
    }
   ],
   "source": [
    "n_estimators = [int(x) for x in np.linspace(start=10,stop=50,num=5)] # The number of trees in the forest\n",
    "max_features = ['auto','sqrt','log2'] # The number of features to consider when looking for the best split: More features seems to have importance here\n",
    "max_depth    = [int(x) for x in np.linspace(start=5,stop=20,num=5)]\n",
    "min_smp_splt = sorted(np.random.randint(2,10,5))\n",
    "min_smp_leaf = sorted(np.random.randint(2,10,5))\n",
    "\n",
    "random_grid  = {'n_estimators':n_estimators,\n",
    "                'max_features':max_features,\n",
    "                'max_depth':max_depth,\n",
    "                'min_samples_split':min_smp_splt,\n",
    "                'min_samples_leaf':min_smp_leaf\n",
    "}\n",
    "\n",
    "print(random_grid)"
   ]
  },
  {
   "cell_type": "code",
   "execution_count": 275,
   "metadata": {},
   "outputs": [],
   "source": [
    "model = GradientBoostingRegressor(learning_rate=0.1)\n",
    "model_random = RandomizedSearchCV(estimator=model,\n",
    "                                  param_distributions=random_grid,\n",
    "                                  scoring='neg_mean_squared_error',\n",
    "                                  n_iter=25,\n",
    "                                  n_jobs=-1,\n",
    "                                  cv=5,\n",
    "                                  verbose=2,\n",
    "                                  random_state=42,\n",
    "                                  return_train_score = True\n",
    ")"
   ]
  },
  {
   "cell_type": "code",
   "execution_count": 276,
   "metadata": {},
   "outputs": [
    {
     "name": "stdout",
     "output_type": "stream",
     "text": [
      "Fitting 5 folds for each of 25 candidates, totalling 125 fits\n"
     ]
    },
    {
     "name": "stderr",
     "output_type": "stream",
     "text": [
      "[Parallel(n_jobs=-1)]: Using backend LokyBackend with 4 concurrent workers.\n",
      "[Parallel(n_jobs=-1)]: Done  33 tasks      | elapsed:    6.6s\n",
      "[Parallel(n_jobs=-1)]: Done 125 out of 125 | elapsed:   29.7s finished\n"
     ]
    },
    {
     "data": {
      "text/plain": [
       "RandomizedSearchCV(cv=5, error_score='raise-deprecating',\n",
       "          estimator=GradientBoostingRegressor(alpha=0.9, criterion='friedman_mse', init=None,\n",
       "             learning_rate=0.1, loss='ls', max_depth=3, max_features=None,\n",
       "             max_leaf_nodes=None, min_impurity_decrease=0.0,\n",
       "             min_impurity_split=None, min_samples_leaf=1,\n",
       "             min_sampl...=None, subsample=1.0, tol=0.0001,\n",
       "             validation_fraction=0.1, verbose=0, warm_start=False),\n",
       "          fit_params=None, iid='warn', n_iter=25, n_jobs=-1,\n",
       "          param_distributions={'n_estimators': [10, 20, 30, 40, 50], 'max_features': ['auto', 'sqrt', 'log2'], 'max_depth': [5, 8, 12, 16, 20], 'min_samples_split': [5, 6, 7, 7, 9], 'min_samples_leaf': [2, 5, 7, 8, 9]},\n",
       "          pre_dispatch='2*n_jobs', random_state=42, refit=True,\n",
       "          return_train_score=True, scoring='neg_mean_squared_error',\n",
       "          verbose=2)"
      ]
     },
     "execution_count": 276,
     "metadata": {},
     "output_type": "execute_result"
    }
   ],
   "source": [
    "model_random.fit(X_train,y_train)"
   ]
  },
  {
   "cell_type": "code",
   "execution_count": 278,
   "metadata": {},
   "outputs": [],
   "source": [
    "pred = model_random.predict(X_test)"
   ]
  },
  {
   "cell_type": "code",
   "execution_count": 281,
   "metadata": {},
   "outputs": [
    {
     "data": {
      "text/plain": [
       "<matplotlib.axes._subplots.AxesSubplot at 0x1cf4dc41cf8>"
      ]
     },
     "execution_count": 281,
     "metadata": {},
     "output_type": "execute_result"
    },
    {
     "data": {
      "image/png": "[encoded data removed]",
      "text/plain": [
       "<Figure size 432x288 with 1 Axes>"
      ]
     },
     "metadata": {
      "needs_background": "light"
     },
     "output_type": "display_data"
    }
   ],
   "source": [
    "sns.distplot(y_test - pred)"
   ]
  },
  {
   "cell_type": "code",
   "execution_count": 282,
   "metadata": {},
   "outputs": [
    {
     "data": {
      "text/plain": [
       "<matplotlib.collections.PathCollection at 0x1cf488922e8>"
      ]
     },
     "execution_count": 282,
     "metadata": {},
     "output_type": "execute_result"
    },
    {
     "data": {
      "image/png": "[encoded data removed]",
      "text/plain": [
       "<Figure size 432x288 with 1 Axes>"
      ]
     },
     "metadata": {
      "needs_background": "light"
     },
     "output_type": "display_data"
    }
   ],
   "source": [
    "plt.scatter(y_test,pred)"
   ]
  },
  {
   "cell_type": "code",
   "execution_count": 280,
   "metadata": {},
   "outputs": [
    {
     "data": {
      "text/plain": [
       "0.8165254775624442"
      ]
     },
     "execution_count": 280,
     "metadata": {},
     "output_type": "execute_result"
    }
   ],
   "source": [
    "r2_score(y_test,pred)"
   ]
  },
  {
   "cell_type": "markdown",
   "metadata": {},
   "source": [
    "## Lets try with the test  set as 2019 -as in the Total volume prediction"
   ]
  },
  {
   "cell_type": "code",
   "execution_count": 285,
   "metadata": {},
   "outputs": [],
   "source": [
    "df_avg   = df_fill.copy()\n",
    "\n",
    "# creating data for training\n",
    "df_train = df_avg[df_avg['year']!=2019]\n",
    "df_test  = df_avg[df_avg['year']==2019]\n",
    "\n",
    "df_train.drop(df_train.columns[[11,13,14,15,16,17,18]],axis=1,inplace=True)\n",
    "df_test.drop(df_test.columns[[11,13,14,15,16,17,18]],axis=1,inplace=True)\n",
    "\n",
    "X_train = df_train.iloc[:,[0]+[int(x) for x in range(2,len(df_train.iloc[0,:]))]] \n",
    "y_train = df_train.iloc[:,1]\n",
    "\n",
    "X_test = df_test.iloc[:,[0]+[int(x) for x in range(2,len(df_test.iloc[0,:]))]] \n",
    "y_test = df_test.iloc[:,1]"
   ]
  },
  {
   "cell_type": "code",
   "execution_count": 293,
   "metadata": {},
   "outputs": [
    {
     "data": {
      "text/html": [
       "<div>\n",
       "<style scoped>\n",
       "    .dataframe tbody tr th:only-of-type {\n",
       "        vertical-align: middle;\n",
       "    }\n",
       "\n",
       "    .dataframe tbody tr th {\n",
       "        vertical-align: top;\n",
       "    }\n",
       "\n",
       "    .dataframe thead th {\n",
       "        text-align: right;\n",
       "    }\n",
       "</style>\n",
       "<table border=\"1\" class=\"dataframe\">\n",
       "  <thead>\n",
       "    <tr style=\"text-align: right;\">\n",
       "      <th></th>\n",
       "      <th>Week</th>\n",
       "      <th>TotalVolume</th>\n",
       "      <th>4046</th>\n",
       "      <th>4225</th>\n",
       "      <th>4770</th>\n",
       "      <th>TotalBags</th>\n",
       "      <th>SmallBags</th>\n",
       "      <th>LargeBags</th>\n",
       "      <th>XLargeBags</th>\n",
       "      <th>type</th>\n",
       "      <th>region</th>\n",
       "    </tr>\n",
       "  </thead>\n",
       "  <tbody>\n",
       "    <tr>\n",
       "      <th>0</th>\n",
       "      <td>1</td>\n",
       "      <td>40873.28</td>\n",
       "      <td>2819.50</td>\n",
       "      <td>28287.42</td>\n",
       "      <td>49.90</td>\n",
       "      <td>9716.46</td>\n",
       "      <td>9186.93</td>\n",
       "      <td>529.53</td>\n",
       "      <td>0.0</td>\n",
       "      <td>0</td>\n",
       "      <td>0</td>\n",
       "    </tr>\n",
       "    <tr>\n",
       "      <th>1</th>\n",
       "      <td>1</td>\n",
       "      <td>435021.49</td>\n",
       "      <td>364302.39</td>\n",
       "      <td>23821.16</td>\n",
       "      <td>82.15</td>\n",
       "      <td>46815.79</td>\n",
       "      <td>16707.15</td>\n",
       "      <td>30108.64</td>\n",
       "      <td>0.0</td>\n",
       "      <td>0</td>\n",
       "      <td>1</td>\n",
       "    </tr>\n",
       "    <tr>\n",
       "      <th>3</th>\n",
       "      <td>1</td>\n",
       "      <td>80034.32</td>\n",
       "      <td>44562.12</td>\n",
       "      <td>24964.23</td>\n",
       "      <td>2752.35</td>\n",
       "      <td>7755.62</td>\n",
       "      <td>6064.30</td>\n",
       "      <td>1691.32</td>\n",
       "      <td>0.0</td>\n",
       "      <td>0</td>\n",
       "      <td>3</td>\n",
       "    </tr>\n",
       "    <tr>\n",
       "      <th>4</th>\n",
       "      <td>1</td>\n",
       "      <td>491738.00</td>\n",
       "      <td>7193.87</td>\n",
       "      <td>396752.18</td>\n",
       "      <td>128.82</td>\n",
       "      <td>87663.13</td>\n",
       "      <td>87406.84</td>\n",
       "      <td>256.29</td>\n",
       "      <td>0.0</td>\n",
       "      <td>0</td>\n",
       "      <td>4</td>\n",
       "    </tr>\n",
       "    <tr>\n",
       "      <th>5</th>\n",
       "      <td>1</td>\n",
       "      <td>116253.44</td>\n",
       "      <td>3267.97</td>\n",
       "      <td>55693.04</td>\n",
       "      <td>109.55</td>\n",
       "      <td>57182.88</td>\n",
       "      <td>57182.88</td>\n",
       "      <td>0.00</td>\n",
       "      <td>0.0</td>\n",
       "      <td>0</td>\n",
       "      <td>5</td>\n",
       "    </tr>\n",
       "  </tbody>\n",
       "</table>\n",
       "</div>"
      ],
      "text/plain": [
       "   Week  TotalVolume       4046       4225     4770  TotalBags  SmallBags  \\\n",
       "0     1     40873.28    2819.50   28287.42    49.90    9716.46    9186.93   \n",
       "1     1    435021.49  364302.39   23821.16    82.15   46815.79   16707.15   \n",
       "3     1     80034.32   44562.12   24964.23  2752.35    7755.62    6064.30   \n",
       "4     1    491738.00    7193.87  396752.18   128.82   87663.13   87406.84   \n",
       "5     1    116253.44    3267.97   55693.04   109.55   57182.88   57182.88   \n",
       "\n",
       "   LargeBags  XLargeBags  type  region  \n",
       "0     529.53         0.0     0       0  \n",
       "1   30108.64         0.0     0       1  \n",
       "3    1691.32         0.0     0       3  \n",
       "4     256.29         0.0     0       4  \n",
       "5       0.00         0.0     0       5  "
      ]
     },
     "execution_count": 293,
     "metadata": {},
     "output_type": "execute_result"
    }
   ],
   "source": [
    "X_train.head()"
   ]
  },
  {
   "cell_type": "code",
   "execution_count": 294,
   "metadata": {},
   "outputs": [
    {
     "data": {
      "text/html": [
       "<div>\n",
       "<style scoped>\n",
       "    .dataframe tbody tr th:only-of-type {\n",
       "        vertical-align: middle;\n",
       "    }\n",
       "\n",
       "    .dataframe tbody tr th {\n",
       "        vertical-align: top;\n",
       "    }\n",
       "\n",
       "    .dataframe thead th {\n",
       "        text-align: right;\n",
       "    }\n",
       "</style>\n",
       "<table border=\"1\" class=\"dataframe\">\n",
       "  <thead>\n",
       "    <tr style=\"text-align: right;\">\n",
       "      <th></th>\n",
       "      <th>Week</th>\n",
       "      <th>TotalVolume</th>\n",
       "      <th>4046</th>\n",
       "      <th>4225</th>\n",
       "      <th>4770</th>\n",
       "      <th>TotalBags</th>\n",
       "      <th>SmallBags</th>\n",
       "      <th>LargeBags</th>\n",
       "      <th>XLargeBags</th>\n",
       "      <th>type</th>\n",
       "      <th>region</th>\n",
       "    </tr>\n",
       "  </thead>\n",
       "  <tbody>\n",
       "    <tr>\n",
       "      <th>22353</th>\n",
       "      <td>2</td>\n",
       "      <td>44749707.48</td>\n",
       "      <td>14377053.08</td>\n",
       "      <td>11890232.90</td>\n",
       "      <td>893721.10</td>\n",
       "      <td>17588700.40</td>\n",
       "      <td>12829493.40</td>\n",
       "      <td>4617813.55</td>\n",
       "      <td>141393.45</td>\n",
       "      <td>0</td>\n",
       "      <td>51</td>\n",
       "    </tr>\n",
       "    <tr>\n",
       "      <th>22354</th>\n",
       "      <td>2</td>\n",
       "      <td>129222.29</td>\n",
       "      <td>3789.30</td>\n",
       "      <td>112635.18</td>\n",
       "      <td>158.00</td>\n",
       "      <td>12639.81</td>\n",
       "      <td>8877.95</td>\n",
       "      <td>3761.86</td>\n",
       "      <td>0.00</td>\n",
       "      <td>0</td>\n",
       "      <td>0</td>\n",
       "    </tr>\n",
       "    <tr>\n",
       "      <th>22355</th>\n",
       "      <td>2</td>\n",
       "      <td>828971.15</td>\n",
       "      <td>388574.98</td>\n",
       "      <td>38902.85</td>\n",
       "      <td>3482.04</td>\n",
       "      <td>398011.28</td>\n",
       "      <td>299475.26</td>\n",
       "      <td>98477.41</td>\n",
       "      <td>58.61</td>\n",
       "      <td>0</td>\n",
       "      <td>1</td>\n",
       "    </tr>\n",
       "    <tr>\n",
       "      <th>22356</th>\n",
       "      <td>2</td>\n",
       "      <td>925391.38</td>\n",
       "      <td>102652.85</td>\n",
       "      <td>530128.43</td>\n",
       "      <td>8212.94</td>\n",
       "      <td>284397.16</td>\n",
       "      <td>263150.78</td>\n",
       "      <td>21233.05</td>\n",
       "      <td>13.33</td>\n",
       "      <td>0</td>\n",
       "      <td>2</td>\n",
       "    </tr>\n",
       "    <tr>\n",
       "      <th>22357</th>\n",
       "      <td>2</td>\n",
       "      <td>108261.98</td>\n",
       "      <td>43723.19</td>\n",
       "      <td>7085.86</td>\n",
       "      <td>14435.46</td>\n",
       "      <td>43017.47</td>\n",
       "      <td>23932.54</td>\n",
       "      <td>19049.95</td>\n",
       "      <td>34.98</td>\n",
       "      <td>0</td>\n",
       "      <td>3</td>\n",
       "    </tr>\n",
       "  </tbody>\n",
       "</table>\n",
       "</div>"
      ],
      "text/plain": [
       "       Week  TotalVolume         4046         4225       4770    TotalBags  \\\n",
       "22353     2  44749707.48  14377053.08  11890232.90  893721.10  17588700.40   \n",
       "22354     2    129222.29      3789.30    112635.18     158.00     12639.81   \n",
       "22355     2    828971.15    388574.98     38902.85    3482.04    398011.28   \n",
       "22356     2    925391.38    102652.85    530128.43    8212.94    284397.16   \n",
       "22357     2    108261.98     43723.19      7085.86   14435.46     43017.47   \n",
       "\n",
       "         SmallBags   LargeBags  XLargeBags  type  region  \n",
       "22353  12829493.40  4617813.55   141393.45     0      51  \n",
       "22354      8877.95     3761.86        0.00     0       0  \n",
       "22355    299475.26    98477.41       58.61     0       1  \n",
       "22356    263150.78    21233.05       13.33     0       2  \n",
       "22357     23932.54    19049.95       34.98     0       3  "
      ]
     },
     "execution_count": 294,
     "metadata": {},
     "output_type": "execute_result"
    }
   ],
   "source": [
    "X_test.head()"
   ]
  },
  {
   "cell_type": "code",
   "execution_count": 286,
   "metadata": {},
   "outputs": [
    {
     "name": "stdout",
     "output_type": "stream",
     "text": [
      "{'n_estimators': [10, 20, 30, 40, 50], 'max_features': ['auto', 'sqrt', 'log2'], 'max_depth': [5, 8, 12, 16, 20], 'min_samples_split': [4, 5, 7, 8, 9], 'min_samples_leaf': [2, 3, 6, 6, 7]}\n"
     ]
    }
   ],
   "source": [
    "n_estimators = [int(x) for x in np.linspace(start=10,stop=50,num=5)] # The number of trees in the forest\n",
    "max_features = ['auto','sqrt','log2'] # The number of features to consider when looking for the best split: More features seems to have importance here\n",
    "max_depth    = [int(x) for x in np.linspace(start=5,stop=20,num=5)]\n",
    "min_smp_splt = sorted(np.random.randint(2,10,5))\n",
    "min_smp_leaf = sorted(np.random.randint(2,10,5))\n",
    "\n",
    "random_grid  = {'n_estimators':n_estimators,\n",
    "                'max_features':max_features,\n",
    "                'max_depth':max_depth,\n",
    "                'min_samples_split':min_smp_splt,\n",
    "                'min_samples_leaf':min_smp_leaf\n",
    "}\n",
    "\n",
    "print(random_grid)"
   ]
  },
  {
   "cell_type": "code",
   "execution_count": 287,
   "metadata": {},
   "outputs": [],
   "source": [
    "model = GradientBoostingRegressor(learning_rate=0.1)\n",
    "model_random = RandomizedSearchCV(estimator=model,\n",
    "                                  param_distributions=random_grid,\n",
    "                                  scoring='neg_mean_squared_error',\n",
    "                                  n_iter=25,\n",
    "                                  n_jobs=-1,\n",
    "                                  cv=5,\n",
    "                                  verbose=2,\n",
    "                                  random_state=42,\n",
    "                                  return_train_score = True\n",
    ")"
   ]
  },
  {
   "cell_type": "code",
   "execution_count": 288,
   "metadata": {},
   "outputs": [
    {
     "name": "stdout",
     "output_type": "stream",
     "text": [
      "Fitting 5 folds for each of 25 candidates, totalling 125 fits\n"
     ]
    },
    {
     "name": "stderr",
     "output_type": "stream",
     "text": [
      "[Parallel(n_jobs=-1)]: Using backend LokyBackend with 4 concurrent workers.\n",
      "[Parallel(n_jobs=-1)]: Done  33 tasks      | elapsed:   10.6s\n",
      "[Parallel(n_jobs=-1)]: Done 125 out of 125 | elapsed:   48.1s finished\n"
     ]
    },
    {
     "data": {
      "text/plain": [
       "RandomizedSearchCV(cv=5, error_score='raise-deprecating',\n",
       "          estimator=GradientBoostingRegressor(alpha=0.9, criterion='friedman_mse', init=None,\n",
       "             learning_rate=0.1, loss='ls', max_depth=3, max_features=None,\n",
       "             max_leaf_nodes=None, min_impurity_decrease=0.0,\n",
       "             min_impurity_split=None, min_samples_leaf=1,\n",
       "             min_sampl...=None, subsample=1.0, tol=0.0001,\n",
       "             validation_fraction=0.1, verbose=0, warm_start=False),\n",
       "          fit_params=None, iid='warn', n_iter=25, n_jobs=-1,\n",
       "          param_distributions={'n_estimators': [10, 20, 30, 40, 50], 'max_features': ['auto', 'sqrt', 'log2'], 'max_depth': [5, 8, 12, 16, 20], 'min_samples_split': [4, 5, 7, 8, 9], 'min_samples_leaf': [2, 3, 6, 6, 7]},\n",
       "          pre_dispatch='2*n_jobs', random_state=42, refit=True,\n",
       "          return_train_score=True, scoring='neg_mean_squared_error',\n",
       "          verbose=2)"
      ]
     },
     "execution_count": 288,
     "metadata": {},
     "output_type": "execute_result"
    }
   ],
   "source": [
    "model_random.fit(X_train,y_train)"
   ]
  },
  {
   "cell_type": "code",
   "execution_count": 289,
   "metadata": {},
   "outputs": [],
   "source": [
    "pred = model_random.predict(X_test)"
   ]
  },
  {
   "cell_type": "code",
   "execution_count": 290,
   "metadata": {},
   "outputs": [
    {
     "data": {
      "text/plain": [
       "<matplotlib.axes._subplots.AxesSubplot at 0x1cf48906f28>"
      ]
     },
     "execution_count": 290,
     "metadata": {},
     "output_type": "execute_result"
    },
    {
     "data": {
      "image/png": "[encoded data removed]",
      "text/plain": [
       "<Figure size 432x288 with 1 Axes>"
      ]
     },
     "metadata": {
      "needs_background": "light"
     },
     "output_type": "display_data"
    }
   ],
   "source": [
    "sns.distplot(y_test - pred)"
   ]
  },
  {
   "cell_type": "code",
   "execution_count": 291,
   "metadata": {},
   "outputs": [
    {
     "data": {
      "text/plain": [
       "<matplotlib.collections.PathCollection at 0x1cf51425978>"
      ]
     },
     "execution_count": 291,
     "metadata": {},
     "output_type": "execute_result"
    },
    {
     "data": {
      "image/png": "[encoded data removed]",
      "text/plain": [
       "<Figure size 432x288 with 1 Axes>"
      ]
     },
     "metadata": {
      "needs_background": "light"
     },
     "output_type": "display_data"
    }
   ],
   "source": [
    "plt.scatter(y_test,pred)"
   ]
  },
  {
   "cell_type": "code",
   "execution_count": 292,
   "metadata": {},
   "outputs": [
    {
     "data": {
      "text/plain": [
       "0.5456630460360364"
      ]
     },
     "execution_count": 292,
     "metadata": {},
     "output_type": "execute_result"
    }
   ],
   "source": [
    "r2_score(y_test,pred)"
   ]
  },
  {
   "cell_type": "code",
   "execution_count": null,
   "metadata": {},
   "outputs": [],
   "source": []
  }
 ],
 "metadata": {
  "kernelspec": {
   "display_name": "Python 3",
   "language": "python",
   "name": "python3"
  },
  "language_info": {
   "codemirror_mode": {
    "name": "ipython",
    "version": 3
   },
   "file_extension": ".py",
   "mimetype": "text/x-python",
   "name": "python",
   "nbconvert_exporter": "python",
   "pygments_lexer": "ipython3",
   "version": "3.6.8"
  }
 },
 "nbformat": 4,
 "nbformat_minor": 2
}
